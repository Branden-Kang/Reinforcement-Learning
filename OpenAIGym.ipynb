{
  "nbformat": 4,
  "nbformat_minor": 0,
  "metadata": {
    "colab": {
      "name": "OpenAIGym.ipynb",
      "provenance": [],
      "collapsed_sections": []
    },
    "kernelspec": {
      "name": "python3",
      "display_name": "Python 3"
    },
    "accelerator": "GPU"
  },
  "cells": [
    {
      "cell_type": "code",
      "metadata": {
        "id": "SlRWIMjAKOaL",
        "colab_type": "code",
        "colab": {}
      },
      "source": [
        "import argparse\n",
        "import gym\n",
        "import numpy as np\n",
        "from itertools import count\n",
        "\n",
        "import torch\n",
        "import torch.nn as nn\n",
        "import torch.nn.functional as F\n",
        "import torch.optim as optim\n",
        "from torch.distributions import Categorical\n",
        "\n",
        "import time"
      ],
      "execution_count": 0,
      "outputs": []
    },
    {
      "cell_type": "code",
      "metadata": {
        "id": "-K0upVe9xfeM",
        "colab_type": "code",
        "colab": {}
      },
      "source": [
        "# TAKEN FROM https://colab.research.google.com/drive/1flu31ulJlgiRL1dnN2ir8wGh9p7Zij2t#forceEdit=true&sandboxMode=true&scrollTo=8A-1LTSH88EE\n",
        "#remove \" > /dev/null 2>&1\" to see what is going on under the hood\n",
        "!pip install gym pyvirtualdisplay > /dev/null 2>&1\n",
        "!apt-get install -y xvfb python-opengl ffmpeg > /dev/null 2>&1"
      ],
      "execution_count": 0,
      "outputs": []
    },
    {
      "cell_type": "code",
      "metadata": {
        "id": "psUrDeJgxfiX",
        "colab_type": "code",
        "outputId": "4ff4b9bd-fa25-4145-f875-742dbb6edf7f",
        "colab": {
          "base_uri": "https://localhost:8080/",
          "height": 34
        }
      },
      "source": [
        "!apt-get update > /dev/null 2>&1\n",
        "!apt-get install cmake > /dev/null 2>&1\n",
        "!pip install --upgrade setuptools 2>&1\n",
        "!pip install ez_setup > /dev/null 2>&1\n",
        "!pip install gym[atari] > /dev/null 2>&1"
      ],
      "execution_count": 0,
      "outputs": [
        {
          "output_type": "stream",
          "text": [
            "Requirement already up-to-date: setuptools in /usr/local/lib/python3.6/dist-packages (46.1.3)\n"
          ],
          "name": "stdout"
        }
      ]
    },
    {
      "cell_type": "code",
      "metadata": {
        "id": "RFBQYx5txpfN",
        "colab_type": "code",
        "colab": {}
      },
      "source": [
        "import gym\n",
        "from gym import logger as gymlogger\n",
        "from gym.wrappers import Monitor\n",
        "gymlogger.set_level(40) #error only\n",
        "import tensorflow as tf\n",
        "import numpy as np\n",
        "import random\n",
        "import matplotlib\n",
        "import matplotlib.pyplot as plt\n",
        "%matplotlib inline\n",
        "import math\n",
        "import glob\n",
        "import io\n",
        "import base64\n",
        "from IPython.display import HTML\n",
        "\n",
        "from IPython import display as ipythondisplay\n"
      ],
      "execution_count": 0,
      "outputs": []
    },
    {
      "cell_type": "code",
      "metadata": {
        "id": "ZAlNyjMrxrmR",
        "colab_type": "code",
        "outputId": "ed4721c2-3b55-42e9-c492-4809edd85a23",
        "colab": {
          "base_uri": "https://localhost:8080/",
          "height": 71
        }
      },
      "source": [
        "from pyvirtualdisplay import Display\n",
        "display = Display(visible=0, size=(1400, 900))\n",
        "display.start()"
      ],
      "execution_count": 0,
      "outputs": [
        {
          "output_type": "stream",
          "text": [
            "xdpyinfo was not found, X start can not be checked! Please install xdpyinfo!\n"
          ],
          "name": "stderr"
        },
        {
          "output_type": "execute_result",
          "data": {
            "text/plain": [
              "<Display cmd_param=['Xvfb', '-br', '-nolisten', 'tcp', '-screen', '0', '1400x900x24', ':1001'] cmd=['Xvfb', '-br', '-nolisten', 'tcp', '-screen', '0', '1400x900x24', ':1001'] oserror=None return_code=None stdout=\"None\" stderr=\"None\" timeout_happened=False>"
            ]
          },
          "metadata": {
            "tags": []
          },
          "execution_count": 5
        }
      ]
    },
    {
      "cell_type": "code",
      "metadata": {
        "id": "RbS87jZ_xvhy",
        "colab_type": "code",
        "colab": {}
      },
      "source": [
        "\"\"\"\n",
        "Utility functions to enable video recording of gym environment and displaying it\n",
        "To enable video, just do \"env = wrap_env(env)\"\"\n",
        "\"\"\"\n",
        "\n",
        "def show_video():\n",
        "  mp4list = glob.glob('video/*.mp4')\n",
        "  if len(mp4list) > 0:\n",
        "    mp4 = mp4list[0]\n",
        "    video = io.open(mp4, 'r+b').read()\n",
        "    encoded = base64.b64encode(video)\n",
        "    ipythondisplay.display(HTML(data='''<video alt=\"test\" autoplay \n",
        "                loop controls style=\"height: 400px;\">\n",
        "                <source src=\"data:video/mp4;base64,{0}\" type=\"video/mp4\" />\n",
        "             </video>'''.format(encoded.decode('ascii'))))\n",
        "  else: \n",
        "    print(\"Could not find video\")\n",
        "    \n",
        "\n",
        "def wrap_env(env):\n",
        "  env = Monitor(env, './video', force=True)\n",
        "  return env"
      ],
      "execution_count": 0,
      "outputs": []
    },
    {
      "cell_type": "code",
      "metadata": {
        "id": "hnEnFZsP7DqD",
        "colab_type": "code",
        "colab": {}
      },
      "source": [
        "parser = argparse.ArgumentParser(description='PyTorch REINFORCE example')\n",
        "parser.add_argument('--gamma', type=float, default=0.99, metavar='G',\n",
        "                    help='discount factor (default: 0.99)')\n",
        "parser.add_argument('--seed', type=int, default=543, metavar='N',\n",
        "                    help='random seed (default: 543)')\n",
        "parser.add_argument('--render', action='store_true',\n",
        "                    help='render the environment')\n",
        "parser.add_argument('--log-interval', type=int, default=10, metavar='N',\n",
        "                    help='interval between training status logs (default: 10)')\n",
        "args, unknown = parser.parse_known_args()\n"
      ],
      "execution_count": 0,
      "outputs": []
    },
    {
      "cell_type": "markdown",
      "metadata": {
        "id": "z3ApWDGu6jO6",
        "colab_type": "text"
      },
      "source": [
        "# Let's create a OpenAI Gym Environment"
      ]
    },
    {
      "cell_type": "code",
      "metadata": {
        "id": "qQ_L1GfeM4OO",
        "colab_type": "code",
        "outputId": "a9b713aa-d050-41cf-8891-582964d1b666",
        "colab": {
          "base_uri": "https://localhost:8080/",
          "height": 34
        }
      },
      "source": [
        "env = wrap_env(gym.make('CartPole-v0'))\n",
        "env.reset()\n",
        "action = env.action_space.sample()\n",
        "action\n",
        "observation, reward, done, info = env.step(action) \n",
        "observation\n"
      ],
      "execution_count": 0,
      "outputs": [
        {
          "output_type": "execute_result",
          "data": {
            "text/plain": [
              "array([-0.02686649, -0.23127172,  0.01375064,  0.2740873 ])"
            ]
          },
          "metadata": {
            "tags": []
          },
          "execution_count": 8
        }
      ]
    },
    {
      "cell_type": "code",
      "metadata": {
        "id": "vBvzgUM5uUB8",
        "colab_type": "code",
        "outputId": "475b19b5-a194-49d0-a318-2174b76c5899",
        "colab": {
          "base_uri": "https://localhost:8080/",
          "height": 421
        }
      },
      "source": [
        "# this environment has env.reset() and end.step() functions\n",
        "env = wrap_env(gym.make('CartPole-v0'))\n",
        "env.seed(47)\n",
        "torch.manual_seed(47)\n",
        "env.reset()\n",
        "while True:  \n",
        "    env.render()    \n",
        "    #your agent goes here\n",
        "    action = env.action_space.sample()          \n",
        "    observation, reward, done, info = env.step(action) \n",
        "    if done: \n",
        "      break;\n",
        "env.close()            \n",
        "show_video()"
      ],
      "execution_count": 0,
      "outputs": [
        {
          "output_type": "display_data",
          "data": {
            "text/html": [
              "<video alt=\"test\" autoplay \n",
              "                loop controls style=\"height: 400px;\">\n",
              "                <source src=\"data:video/mp4;base64,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\" type=\"video/mp4\" />\n",
              "             </video>"
            ],
            "text/plain": [
              "<IPython.core.display.HTML object>"
            ]
          },
          "metadata": {
            "tags": []
          }
        }
      ]
    },
    {
      "cell_type": "markdown",
      "metadata": {
        "id": "SzMZ2ovC3RJO",
        "colab_type": "text"
      },
      "source": [
        "# Create actor network"
      ]
    },
    {
      "cell_type": "code",
      "metadata": {
        "id": "7kzXC5RluT72",
        "colab_type": "code",
        "colab": {}
      },
      "source": [
        "class Actor(nn.Module):\n",
        "    # this class defines a policy network with two layer NN\n",
        "    def __init__(self):\n",
        "        super(Actor, self).__init__()\n",
        "        self.affine1 = nn.Linear(4, 128)\n",
        "        self.affine2 = nn.Linear(128, 2)\n",
        "\n",
        "    def forward(self, x):\n",
        "        x = F.relu(self.affine1(x))\n",
        "        action_scores = self.affine2(x)\n",
        "        prob = F.softmax(action_scores, dim=1)\n",
        "        return prob\n",
        "\n",
        "class Critic(nn.Module):\n",
        "    # this class defines a policy network with two layer NN\n",
        "    def __init__(self):\n",
        "        super(Critic, self).__init__()\n",
        "        self.affine1 = nn.Linear(4, 128)\n",
        "        self.affine2 = nn.Linear(128, 1)\n",
        "\n",
        "    def forward(self, x):\n",
        "        x = F.relu(self.affine1(x))\n",
        "        v = self.affine2(x).squeeze()\n",
        "        return v"
      ],
      "execution_count": 0,
      "outputs": []
    },
    {
      "cell_type": "code",
      "metadata": {
        "id": "yc55nxvRuT6C",
        "colab_type": "code",
        "colab": {}
      },
      "source": [
        "def select_action(state):\n",
        "    # this function selects stochastic actions based on the policy probabilities\n",
        "    state = torch.from_numpy(state).float().unsqueeze(0)\n",
        "    probs = actor(state)\n",
        "    m = Categorical(probs)\n",
        "    action = m.sample()\n",
        "    log_prob = m.log_prob(action)    \n",
        "    return action.item(), log_prob\n",
        "    \n",
        "def rollout():\n",
        "    states = []\n",
        "    rewards = []\n",
        "    log_probs = []\n",
        "    \n",
        "    # play an episode\n",
        "    state = env.reset()\n",
        "    while True:  # Don't infinite loop while learning\n",
        "        # select an action\n",
        "        action, log_prob = select_action(state)\n",
        "        states.append(list(state))\n",
        "        log_probs.append(log_prob[0])\n",
        "        \n",
        "        # take the action and move to next state\n",
        "        state, reward, done, _ = env.step(action)\n",
        "        rewards.append(reward)\n",
        "        if done:\n",
        "            break\n",
        "            \n",
        "    return states, rewards, log_probs    "
      ],
      "execution_count": 0,
      "outputs": []
    },
    {
      "cell_type": "code",
      "metadata": {
        "id": "ElXFW-xeuT34",
        "colab_type": "code",
        "colab": {}
      },
      "source": [
        "def train(states,rewards,log_probs):\n",
        "    \n",
        "\n",
        "    R = np.sum(rewards)\n",
        "    log_probs_paths = torch.sum(torch.cat([lp.unsqueeze(0) for lp in log_probs]))\n",
        "    \n",
        "\n",
        "    # value = critic(torch.tensor(states[0]))\n",
        "\n",
        "    # take a backward step for actor\n",
        "    actor_loss = - log_probs_paths*(R)\n",
        "    # actor_loss = - log_probs_paths*(R-value.detach())\n",
        "    actor_optim.zero_grad()\n",
        "    actor_loss.backward()\n",
        "    actor_optim.step()\n",
        "\n",
        "    # take a backward step for critic\n",
        "    # critic_loss = (value-R)**2\n",
        "    # critic_optim.zero_grad()\n",
        "    # critic_loss.backward()\n",
        "    # critic_optim.step()\n"
      ],
      "execution_count": 0,
      "outputs": []
    },
    {
      "cell_type": "code",
      "metadata": {
        "id": "KQPHPml77KP6",
        "colab_type": "code",
        "outputId": "b71a6a93-d06a-4af9-db42-764312d8eb6c",
        "colab": {
          "base_uri": "https://localhost:8080/",
          "height": 1000
        }
      },
      "source": [
        "env.seed(347)\n",
        "torch.manual_seed(347)\n",
        "\n",
        "# create actor and critic network\n",
        "actor = Actor()\n",
        "critic = Critic()\n",
        "\n",
        "# create optimizers\n",
        "actor_optim = optim.Adam(actor.parameters(), lr=1e-2)\n",
        "critic_optim = optim.Adam(critic.parameters(), lr=1e-2)\n",
        "\n",
        "\n",
        "running_reward = 10\n",
        "for i_episode in range(1000):\n",
        "    states, rewards, log_probs = rollout()\n",
        "    t = len(rewards)\n",
        "    running_reward = running_reward * 0.9 +  t * 0.1\n",
        "    train(states, rewards, log_probs)\n",
        "    if i_episode % args.log_interval == 0:\n",
        "        print('Episode {}\\tLast length: {:5d}\\tAverage length: {:.2f}'.format(\n",
        "            i_episode, t, running_reward))\n",
        "    if running_reward > env.spec.reward_threshold:\n",
        "        print(\"Solved! Running reward is now {} and \"\n",
        "              \"the last episode runs to {} time steps!\".format(running_reward, t))\n",
        "        break"
      ],
      "execution_count": 0,
      "outputs": [
        {
          "output_type": "stream",
          "text": [
            "Episode 0\tLast length:    14\tAverage length: 10.40\n",
            "Episode 10\tLast length:    14\tAverage length: 21.08\n",
            "Episode 20\tLast length:    28\tAverage length: 21.69\n",
            "Episode 30\tLast length:    15\tAverage length: 19.59\n",
            "Episode 40\tLast length:    17\tAverage length: 17.73\n",
            "Episode 50\tLast length:    11\tAverage length: 16.97\n",
            "Episode 60\tLast length:    25\tAverage length: 21.27\n",
            "Episode 70\tLast length:    21\tAverage length: 22.48\n",
            "Episode 80\tLast length:    15\tAverage length: 23.35\n",
            "Episode 90\tLast length:    15\tAverage length: 18.42\n",
            "Episode 100\tLast length:    14\tAverage length: 18.94\n",
            "Episode 110\tLast length:    17\tAverage length: 18.43\n",
            "Episode 120\tLast length:    42\tAverage length: 30.50\n",
            "Episode 130\tLast length:    52\tAverage length: 38.98\n",
            "Episode 140\tLast length:    56\tAverage length: 52.03\n",
            "Episode 150\tLast length:    50\tAverage length: 47.93\n",
            "Episode 160\tLast length:    30\tAverage length: 46.52\n",
            "Episode 170\tLast length:    35\tAverage length: 45.93\n",
            "Episode 180\tLast length:    42\tAverage length: 41.54\n",
            "Episode 190\tLast length:    24\tAverage length: 33.74\n",
            "Episode 200\tLast length:    28\tAverage length: 32.68\n",
            "Episode 210\tLast length:    32\tAverage length: 35.17\n",
            "Episode 220\tLast length:    89\tAverage length: 45.43\n",
            "Episode 230\tLast length:    78\tAverage length: 72.37\n",
            "Episode 240\tLast length:    43\tAverage length: 54.17\n",
            "Episode 250\tLast length:    31\tAverage length: 37.50\n",
            "Episode 260\tLast length:    34\tAverage length: 32.27\n",
            "Episode 270\tLast length:    25\tAverage length: 31.31\n",
            "Episode 280\tLast length:    21\tAverage length: 29.77\n",
            "Episode 290\tLast length:    27\tAverage length: 28.28\n",
            "Episode 300\tLast length:    22\tAverage length: 29.11\n",
            "Episode 310\tLast length:    39\tAverage length: 30.62\n",
            "Episode 320\tLast length:    26\tAverage length: 30.39\n",
            "Episode 330\tLast length:    28\tAverage length: 29.70\n",
            "Episode 340\tLast length:    42\tAverage length: 34.18\n",
            "Episode 350\tLast length:    30\tAverage length: 34.62\n",
            "Episode 360\tLast length:    38\tAverage length: 34.32\n",
            "Episode 370\tLast length:    17\tAverage length: 30.71\n",
            "Episode 380\tLast length:    29\tAverage length: 29.18\n",
            "Episode 390\tLast length:    35\tAverage length: 26.88\n",
            "Episode 400\tLast length:    23\tAverage length: 25.72\n",
            "Episode 410\tLast length:    28\tAverage length: 27.30\n",
            "Episode 420\tLast length:    24\tAverage length: 26.94\n",
            "Episode 430\tLast length:    31\tAverage length: 28.28\n",
            "Episode 440\tLast length:    35\tAverage length: 27.66\n",
            "Episode 450\tLast length:    23\tAverage length: 28.26\n",
            "Episode 460\tLast length:    27\tAverage length: 26.76\n",
            "Episode 470\tLast length:    27\tAverage length: 28.95\n",
            "Episode 480\tLast length:    35\tAverage length: 32.05\n",
            "Episode 490\tLast length:    29\tAverage length: 31.60\n",
            "Episode 500\tLast length:    34\tAverage length: 33.66\n",
            "Episode 510\tLast length:    31\tAverage length: 31.70\n",
            "Episode 520\tLast length:    25\tAverage length: 31.24\n",
            "Episode 530\tLast length:    32\tAverage length: 29.97\n",
            "Episode 540\tLast length:    30\tAverage length: 28.58\n",
            "Episode 550\tLast length:    24\tAverage length: 29.30\n",
            "Episode 560\tLast length:    80\tAverage length: 43.07\n",
            "Episode 570\tLast length:    53\tAverage length: 49.67\n",
            "Episode 580\tLast length:    42\tAverage length: 42.56\n",
            "Episode 590\tLast length:    30\tAverage length: 35.65\n",
            "Episode 600\tLast length:    23\tAverage length: 31.44\n",
            "Episode 610\tLast length:    22\tAverage length: 28.51\n",
            "Episode 620\tLast length:    24\tAverage length: 27.26\n",
            "Episode 630\tLast length:    27\tAverage length: 24.96\n",
            "Episode 640\tLast length:    23\tAverage length: 24.82\n",
            "Episode 650\tLast length:    30\tAverage length: 25.22\n",
            "Episode 660\tLast length:    23\tAverage length: 23.24\n",
            "Episode 670\tLast length:    28\tAverage length: 24.38\n",
            "Episode 680\tLast length:    23\tAverage length: 23.80\n",
            "Episode 690\tLast length:    23\tAverage length: 25.41\n",
            "Episode 700\tLast length:    28\tAverage length: 26.95\n",
            "Episode 710\tLast length:    36\tAverage length: 30.78\n",
            "Episode 720\tLast length:    42\tAverage length: 31.43\n",
            "Episode 730\tLast length:    44\tAverage length: 31.98\n",
            "Episode 740\tLast length:    35\tAverage length: 33.77\n",
            "Episode 750\tLast length:    29\tAverage length: 37.90\n",
            "Episode 760\tLast length:    47\tAverage length: 44.06\n",
            "Episode 770\tLast length:    72\tAverage length: 59.93\n",
            "Episode 780\tLast length:   121\tAverage length: 95.10\n",
            "Episode 790\tLast length:    75\tAverage length: 86.77\n",
            "Episode 800\tLast length:    45\tAverage length: 73.55\n",
            "Episode 810\tLast length:    41\tAverage length: 57.70\n",
            "Episode 820\tLast length:    35\tAverage length: 46.03\n",
            "Episode 830\tLast length:    35\tAverage length: 40.99\n",
            "Episode 840\tLast length:    36\tAverage length: 38.50\n",
            "Episode 850\tLast length:    38\tAverage length: 39.01\n",
            "Episode 860\tLast length:    36\tAverage length: 34.87\n",
            "Episode 870\tLast length:    27\tAverage length: 32.59\n",
            "Episode 880\tLast length:    27\tAverage length: 32.27\n",
            "Episode 890\tLast length:    26\tAverage length: 31.63\n",
            "Episode 900\tLast length:    25\tAverage length: 29.18\n",
            "Episode 910\tLast length:    23\tAverage length: 28.93\n",
            "Episode 920\tLast length:    37\tAverage length: 31.93\n",
            "Episode 930\tLast length:    35\tAverage length: 35.45\n",
            "Episode 940\tLast length:    25\tAverage length: 36.01\n",
            "Episode 950\tLast length:    30\tAverage length: 34.96\n",
            "Episode 960\tLast length:    23\tAverage length: 29.62\n",
            "Episode 970\tLast length:    34\tAverage length: 30.18\n",
            "Episode 980\tLast length:    30\tAverage length: 28.41\n",
            "Episode 990\tLast length:    28\tAverage length: 28.76\n"
          ],
          "name": "stdout"
        }
      ]
    },
    {
      "cell_type": "markdown",
      "metadata": {
        "id": "S529g2mU7Q9K",
        "colab_type": "text"
      },
      "source": [
        "# Using Causality Trick"
      ]
    },
    {
      "cell_type": "code",
      "metadata": {
        "id": "3g54-ct33jlb",
        "colab_type": "code",
        "colab": {}
      },
      "source": [
        "def train(states,rewards,log_probs):\n",
        "    \n",
        "    R = 0\n",
        "    P = 0\n",
        "    rewards_path = []\n",
        "    log_probs_paths = []\n",
        "    for i in reversed(range(len(rewards))):\n",
        "        R = rewards[i] + args.gamma * R\n",
        "        rewards_path.insert(0, R) \n",
        "        \n",
        "        P = log_probs[i]  \n",
        "        log_probs_paths.insert(0, P) \n",
        "\n",
        "    rewards_path = torch.tensor(rewards_path)\n",
        "    rewards_path = (rewards_path - rewards_path.mean()) / (rewards_path.std() + 1e-8)   #### ADDITIONAL TUNING :)\n",
        "    log_probs_paths = torch.stack(log_probs_paths)\n",
        "    \n",
        "#     print(rewards_path,log_probs_paths)\n",
        "    value = critic(torch.tensor(states))\n",
        "\n",
        "    # take a backward step for actor\n",
        "    actor_loss = -torch.mean(((rewards_path - value.detach()) * log_probs_paths))\n",
        "    actor_optim.zero_grad()\n",
        "    actor_loss.backward()\n",
        "    actor_optim.step()\n",
        "\n",
        "    # take a backward step for critic\n",
        "    loss_fn = torch.nn.MSELoss()\n",
        "    critic_loss = loss_fn(value,rewards_path)\n",
        "    critic_optim.zero_grad()\n",
        "    critic_loss.backward()\n",
        "    critic_optim.step()\n"
      ],
      "execution_count": 0,
      "outputs": []
    },
    {
      "cell_type": "code",
      "metadata": {
        "id": "ZRxZVtxO3dJe",
        "colab_type": "code",
        "outputId": "1d74d15b-7c79-4d3f-89f0-3eb9ea2067cb",
        "colab": {
          "base_uri": "https://localhost:8080/",
          "height": 170
        }
      },
      "source": [
        "env.seed(347)\n",
        "torch.manual_seed(347)\n",
        "# create actor and critic network\n",
        "actor = Actor() \n",
        "critic = Critic()\n",
        "\n",
        "# create optimizers\n",
        "actor_optim = optim.Adam(actor.parameters(), lr=1e-2)\n",
        "critic_optim = optim.Adam(critic.parameters(), lr=1e-2)\n",
        "\n",
        "\n",
        "\n",
        "running_reward = 10\n",
        "for i_episode in range(1000):\n",
        "    states, rewards, log_probs = rollout()\n",
        "    t = len(rewards)\n",
        "    running_reward = running_reward * 0.9 +  t * 0.1\n",
        "    train(states, rewards, log_probs)\n",
        "    if i_episode % args.log_interval == 0:\n",
        "        print('Episode {}\\tLast length: {:5d}\\tAverage length: {:.2f}'.format(\n",
        "            i_episode, t, running_reward))\n",
        "    if running_reward > env.spec.reward_threshold:\n",
        "        print(\"Solved! Running reward is now {} and \"\n",
        "              \"the last episode runs to {} time steps!\".format(running_reward, t))\n",
        "        break"
      ],
      "execution_count": 0,
      "outputs": [
        {
          "output_type": "stream",
          "text": [
            "Episode 0\tLast length:    14\tAverage length: 10.40\n",
            "Episode 10\tLast length:    40\tAverage length: 28.51\n",
            "Episode 20\tLast length:    20\tAverage length: 38.09\n",
            "Episode 30\tLast length:    29\tAverage length: 44.47\n",
            "Episode 40\tLast length:    96\tAverage length: 110.93\n",
            "Episode 50\tLast length:   200\tAverage length: 137.88\n",
            "Episode 60\tLast length:   200\tAverage length: 168.94\n",
            "Episode 70\tLast length:   200\tAverage length: 189.17\n",
            "Solved! Running reward is now 195.3375189744868 and the last episode runs to 200 time steps!\n"
          ],
          "name": "stdout"
        }
      ]
    },
    {
      "cell_type": "code",
      "metadata": {
        "id": "mC5yXExA3fU_",
        "colab_type": "code",
        "colab": {}
      },
      "source": [
        ""
      ],
      "execution_count": 0,
      "outputs": []
    },
    {
      "cell_type": "code",
      "metadata": {
        "id": "KULns_zw3qIW",
        "colab_type": "code",
        "outputId": "6a0dd85a-5493-4032-acdf-942972011a8a",
        "colab": {
          "base_uri": "https://localhost:8080/",
          "height": 438
        }
      },
      "source": [
        "env = wrap_env(gym.make('CartPole-v0'))\n",
        "state = env.reset()\n",
        "it = 0\n",
        "while True:  # Don't infinite loop while learning\n",
        "    # select an action\n",
        "    action, log_prob = select_action(state)\n",
        "    states.append(list(state))\n",
        "    log_probs.append(log_prob[0])\n",
        "    \n",
        "    # take the action and move to next state\n",
        "    state, reward, done, _ = env.step(action)\n",
        "    rewards.append(reward)\n",
        "    env.render()\n",
        "    it+=1\n",
        "    if done:\n",
        "        break\n",
        "\n",
        "print(it)\n",
        "env.close()            \n",
        "show_video()"
      ],
      "execution_count": 0,
      "outputs": [
        {
          "output_type": "stream",
          "text": [
            "200\n"
          ],
          "name": "stdout"
        },
        {
          "output_type": "display_data",
          "data": {
            "text/html": [
              "<video alt=\"test\" autoplay \n",
              "                loop controls style=\"height: 400px;\">\n",
              "                <source src=\"data:video/mp4;base64,AAAAIGZ0eXBpc29tAAACAGlzb21pc28yYXZjMW1wNDEAAAAIZnJlZQAAP5ltZGF0AAACrgYF//+q3EXpvebZSLeWLNgg2SPu73gyNjQgLSBjb3JlIDE1MiByMjg1NCBlOWE1OTAzIC0gSC4yNjQvTVBFRy00IEFWQyBjb2RlYyAtIENvcHlsZWZ0IDIwMDMtMjAxNyAtIGh0dHA6Ly93d3cudmlkZW9sYW4ub3JnL3gyNjQuaHRtbCAtIG9wdGlvbnM6IGNhYmFjPTEgcmVmPTMgZGVibG9jaz0xOjA6MCBhbmFseXNlPTB4MzoweDExMyBtZT1oZXggc3VibWU9NyBwc3k9MSBwc3lfcmQ9MS4wMDowLjAwIG1peGVkX3JlZj0xIG1lX3JhbmdlPTE2IGNocm9tYV9tZT0xIHRyZWxsaXM9MSA4eDhkY3Q9MSBjcW09MCBkZWFkem9uZT0yMSwxMSBmYXN0X3Bza2lwPTEgY2hyb21hX3FwX29mZnNldD0tMiB0aHJlYWRzPTMgbG9va2FoZWFkX3RocmVhZHM9MSBzbGljZWRfdGhyZWFkcz0wIG5yPTAgZGVjaW1hdGU9MSBpbnRlcmxhY2VkPTAgYmx1cmF5X2NvbXBhdD0wIGNvbnN0cmFpbmVkX2ludHJhPTAgYmZyYW1lcz0zIGJfcHlyYW1pZD0yIGJfYWRhcHQ9MSBiX2JpYXM9MCBkaXJlY3Q9MSB3ZWlnaHRiPTEgb3Blbl9nb3A9MCB3ZWlnaHRwPTIga2V5aW50PTI1MCBrZXlpbnRfbWluPTI1IHNjZW5lY3V0PTQwIGludHJhX3JlZnJlc2g9MCByY19sb29rYWhlYWQ9NDAgcmM9Y3JmIG1idHJlZT0xIGNyZj0yMy4wIHFjb21wPTAuNjAgcXBtaW49MCBxcG1heD02OSBxcHN0ZXA9NCBpcF9yYXRpbz0xLjQwIGFxPTE6MS4wMACAAAAB/mWIhAAz//727L4FNf2f0JcRLMXaSnA+KqSAgHc0wAAAAwAAAwAAFgn0I7DkqgN3QAAAHGAFBCwCPCVC2EhH2OkN/wcyp2QByq4nANJ36vJdqLOrBC2gWPgnO2PaUwxZBSNR/SCcXPkAZKPejkYeu+dJa54eNCBL+RZZ/+2mRfzHBmrQh5mQKz256Lyromi1q+52lAfOx0m8W/KT57JI6yt4LroKGgCWBmCR/sE6heIyFgc1Dlxd3KLeIrpy+JAVNUu2MibwX/9ycuAYQmMDbvpcwx6xH3YaxWinsicKPP4n/CjzV4/dmTeOWhKefF9v+6S1bPe1Tl0NfgN5pfiS7UM3xBEVAHDyNdYLQXWJc+XjYkWgh5EdWtiudEKRdxrGuQTIwWtHYR58zZfm81SBVCywab8xHnimXL1xvImCiooK7u/m1/VfguIqDaMqD9/EIRqLmgopc4qRgZCNHsFAUf1r1dxmn43j9ThU+MVHE9E3/xGaXmWOhe/jX0NZFQxctqyas+lP6MGJJzWquTo428m9lTe5bXc3hnNhvWr71xWxs/bDbb/yYl6vAk+gYJk2EdUzRKncyQGjeZW1u2KUEBPXZol4g03aQPwDC3Sm0LJIpFvuGn/zLX7ri1w6DBQ3oodVKD2meBwkFx1fSFQGG7IZbKX2gAAAAwAAAwAZ0QAAALFBmiRsQz/+nhAAABp5MUbDIACFg+7Ynqe/LxVuEkU+x/+PiRQGnYKufGdH+LrDFttOMz+wd54d7S5+IUGGmM8c18MSm2yRBdyh0sMKulai1s7aP9jPC7egcD4efOcF5YytyKeceH6a8XEBM4LD9vxWbnr9hdhLj/3/4zSQue424SZMm73tT6cp7ZMw3hyD5PjzWqvZbH/VouMCnEcehIvGriW1t1h8/EbvzNTMBf4AakAAAABIQZ5CeIR/AAAIcJ1wAIx7xR7K9xRtJwJbGIlYJHvGejCg21Cii4vN/qnux4sxG4wuRYAAAA9Ur/3ji2kLXz/5BVFP21TLAANnAAAANgGeYXRH/wAADYXdLcdK06Z/Gxz8f1ABH7F7SFyWgnhiBVTAAAAHUEzhAAADAB3TUip4QABqQAAAADMBnmNqR/8AAA15S3W6oan2Y9W30HV+93H5xOiFBWG77gAoKpZrxl4HcAAAAwPh0UMgCykAAAB5QZpoSahBaJlMCGf//p4QAABFZT3m6p/6oToxZbcbDOCi6LOY88fWZOxgkh1913xuBKftOHwdp2kzlulFKM/9pWngzIZJr6Nlxn2+Fp/Jfd9vpRaDd5Yz/ph9yWs2/6F8SXaRbk6vjMpgNzzJwOFt1kSsKAp4S8CZgQAAAD1BnoZFESwj/wAAFrw9LmQtMDZ0SV0e5FDDTEJid813aqSYAGDs3wxyahMvXlpzqw0haUAABjEG511KoB/hAAAAPwGepXRH/wAADXrU74Kgk9IyM4pcc4IkHcr+MqVgOnoU7AAma0O4TrNpaWuElbP2NCwAAAMAAAMBiQWHGWA9IQAAACcBnqdqR/8AACM9zA3a8sJUByOYcS9GTw3OPURl1DwgAAQkMAGWA/IAAABcQZqsSahBbJlMCGf//p4QAABFUfX1g8aRbhqaGAA7Q+uhD2oQwDF2sI6fjGlLq7kdnU0zQKauYrrvBWfUT6KAEa89GA7X3/MtpLlZeuAAAAMAAAMAEtq3PoywasAAAABUQZ7KRRUsI/8AABY60IAT1OyVTKc8wc8DBg7dV/u8rkED+DDQVfXxb2ltUq/hZsh7hy3N3o8GYNnAleNx48/2A6sAXASN1fRAAAADAAbTtRXZYEHBAAAALwGe6XRH/wAAIsNAEy9T+Ll+p2lp4eLeZYUi+AjOii8TgAAAAwAQUAqp+sP4QGfAAAAATAGe62pH/wAAI5mu9q18ukAC4mEtpScym1M0843DRj7dklQv4WlrL30ZZuVoYPdt1xF4RZWrmojyCaEdGN94AAADAAADADShMtcsBFwAAAB/QZrwSahBbJlMCF///oywAABGLsegHOzKMB+G53inWgtHa893t+PmdJhVsatvG8762zgwmx+hXTgbJtfDXifQkIUuHLsdiwKjzlMUf3qTgllv9fyj1elsuK+r9x4Q2Gme+tXtSAlaPYsKn0pM+eEmYvTd9umbBisMRxJvU5BpgQAAAEdBnw5FFSwj/wAAFrxDzT6P2L61KjOqadNIG9MXBbDrrcgBLVAIxjOhw0wY3txXLypj2zbSWpEm0owRv0eBDKI72GR+vFUBZQAAADUBny10R/8AAA1+ANOql+U93awQEpyBSYq8gg78pDP/bHsbRvr9juevhHx+iJNYiXQs/hAasQAAADcBny9qR/8AACKq3voBv672xj6bEX/riR4XGkV4ulOd9MUzi0rqjwMc3Fqk8vsn5l3lxzZVVAPSAAAAmkGbNEmoQWyZTAhf//6MsAAARhDNHIAQczY2eAY2ab/R6nA1B5CrgxpnBeu4L/vtJsfrAMszZC3IbH6S7ruRcUuHg+A6BUbFGkoYEtGz+NZbjREqH1hILhWWZ6aRUBS0BsM+jXeQHg45mDQwTdu193v1zxT3a1kB9iEQsGOBwj0KfgbAdUaW+tUD0fUOGvtgC7uy/cbP8qpVAg4AAABFQZ9SRRUsI/8AABaoDsW8IlUCUrUSXRL+U3g2+sXnGR7pF0/Ys1YuMAFpA0AcepPMC9V0T2aQKRBDEAAAAwJ5biElUCLhAAAALgGfcXRH/wAAIz3LOf3TUaT1wQ4Wonz5LEWmnt7I20jsAAADAAADADCiEKEA9IAAAABDAZ9zakf/AAAivx9fra/86K/Ww0rwuz1CYPJWVJIVgkzoUz8MTn+iLgAnT/AO3+y/sJw5Y9MpzAAAAwAVFjygZYD5gAAAAG5Bm3hJqEFsmUwIX//+jLAAAEX+KrAIOaHtrp6VPkVSaprkmFnAJOGS7bZdNIYSZPev06PfqXYxX4QsU6/yQ19SmfL0Fvsvqxq2Dr3krSDIrknsVyEhCp3pT6h56kXgMpa5rHyQ0sg5vt4c2Hy1gQAAAEBBn5ZFFSwj/wAAFrxOQvicTny8I/ORHk99nOiHZ00u6jGbMLwUvIf8H2dtvdeNEZigF/VFi5wwBzcXOsusPHz4AAAAIwGftXRH/wAADX9AgSkiMFqUFKlXnjFLbylq5Ws4dsY92j/BAAAAPQGft2pH/wAAI78ZRZVLHiq4Coinjp2nKUq2Ugli1PERuVEQvqTc2cgA/PbXKPATfQ6VS4eAB+7/6UmOfz8AAABhQZu7SahBbJlMCF///oywAABGAvbyegWbBKo1ntYJQ4lzydreV7jyMdRT+R4Xs4AkLWTpbn/TbBMv3YnEw50zY5J7MmBKRMaya5wictILV4N4QtTPwcRGaWZ4u4S37m0pQAAAADRBn9lFFSwj/wAAFrxDzbcV4rt4ZXG/Gr68lhgqNk0fSQfKNT7PkyugTvnZYgBByXNqodcLAAAAKwGf+mpH/wAAI7HMDVWnTG/Y89X3m/LQIj4mNNyh1PltK4AzBeRBpvuWICAAAABdQZv8SahBbJlMCGf//p4QAABFRnugALBSIOdxq5DK036UJP64fgTkiiJW6IFdPDc5QVM0rQinei9Q6rkPTUsmecLFN+3QKXrewXHYZIDdUdp/V8puazfHeMly/WzBAAAAbUGaAEnhClJlMCGf/p4QAABFUM8i8gAOi0byk0SCn25Mq+AnI1f4r7Nezq8IuIYC8mDObs9yicMNKY3jzmhaPo04rqpxuzjktmY5bfTXRZbuTU43T6XC1QiL2RnYOc7BKEWnveHpg7mO9BC/1lUAAAA3QZ4+RTRMI/8AABa7lDcjJ0IMtsviwWUW3Oujvkbk+4+yoPn3Bw2HMFs7XuAEyNykAw+K2G8UEAAAACcBnl10R/8AACKp0Bw2nfcmgsZmZsgvnH5hHBkgPhQRHbvPi1MCwYAAAAA6AZ5fakf/AAAjozBmpfFIaVm+84NQ+iGxqsSUH92PbXADr7YFjfUAJ2xfmtLj1zXQTnVpYC7ySHL+OQAAAExBmkRJqEFomUwIZ//+nhAAAEVEagX8059Xu0R06LfEWlHfMTzP6uqjlf0rot3iqXGw09W2VU4AFpmd90XW8tJBqxjflsBZW9V7C8bAAAAAMUGeYkURLCP/AAAWu5RUsWE/9rvuNPhUr6u/NronekOMakbD7ctTI/E4Mv+xnMgHtuEAAAA0AZ6BdEf/AAAjq/hcKu6NXGnHx/TAVwsex5c2r68cHN4MygAAfzoVsS89+StbuqnbExtBwAAAADgBnoNqR/8AACOxhaADJgO8mBgvqbzo7/5WbMCk8LkiKw0cJReIiaULscdGsl5d8/qfQNT4evEJAwAAAHpBmohJqEFsmUwIZ//+nhAAAEW6bzrbpTpF0WvED/ACWSVSueR+/+yv/nM5IUbxjVxdPWgIXllXDLQzoecR8saMP46rCLouxJZ6Ckhz6Whxt8Qah5CMlJDxoXMv2LzQ8vP/hu270zohBJDrxfmzX4Rc3AJjMpPDCC47gQAAADZBnqZFFSwj/wAAFrUm43/xfxDYzd9puouBtg0ABGaUxNYMIy586rI1bqbQXdqHmWHNvlnSbZkAAAAxAZ7FdEf/AAAjx/P5ax2ftAUdu0obK5Qw7fm/FmAzhiNIISTWvOdpAQ58LWJMIbngwQAAADQBnsdqR/8AACKyPK/Gjqy0G2FPVhWrXiRgUcg/AN5rprD4XlQANqJafkzoDAgeDIrstjkmAAAAfkGazEmoQWyZTAhf//6MsAAARAFJVzACw+mOM8UAGYsVXfIFs9gSdrl+YxNujV/ntoUYsFQcR8hTFS1/L1YPsO7lqVz+YxyTDChNWlAzIKpLxkXLPc4nH7c9QLmPgRZmDKKwNonv2EUbuxw8/SJpc81Ib3S3a319DLbGL0S4FgAAAE1BnupFFSwj/wAAFitfhTylmYvuuiiXdhomMQIBHvOjFq18dyzzuVjAG+rQLaUrUYtwvp5mBNPaipI9md8dGTYdhsEjP0Q5I7vaegD4xQAAAC8Bnwl0R/8AACLAuY2SZ8J/kZrQxpfWhRpnKmENLj0gCW7dR21wR9VJXWGZpQ+ltwAAADwBnwtqR/8AACKuMvsoZTqcwwlOTSEa6GPntX7AbA4e3epc80t0vr4IksFr3SV/AqywAeaviPK8IGk6dYsAAABfQZsQSahBbJlMCF///oywAABEMNed0pKpibArtKeQsG2j/xYvdymBZ/VI/W1PW7WBpqQ0KsFgiJXM6prfABxZUoaMcUNXON/nuiRrKWdsr1jzFE/m6G1NwcEtdsT6KqEAAAA/QZ8uRRUsI/8AABXeWaxPlUAmgk/DJgrMMhudoLtEQ91kTh/DL+3kXZIl/AUHodwHDC5vfy3i5EX+tmmsUf6DAAAARgGfTXRH/wAAIsC4+pv7IZrYGc+uETMTMVfmJdxN3gIFHTo3x4KACDMMiwPF3Ll8kc+Pfb2kaTZ8Z2PZuHrkQ0RPGBpYMUEAAAAzAZ9Pakf/AAAirjEvz6/Ul3n9iQhwsRuoSxFiafSU0sczefvkcwwB6KsT8idf5iuMf8GAAAAASUGbUkmoQWyZTBRMM//+nhAAAENEaiJdOXVb6BkGeX8DSNbieY1FFW9mJhCXU2fm5IT0j+iejqrJThMRyybTJC2Rh1549ImQO60AAABCAZ9xakf/AAAirjEv0ugYCoy6Tk71DHi3nKw/eZ3Mz8NtfYIAWaksezMNQbw7bQe1XjPLrdbx9RBWVWVlrffD1ggtAAAAaEGbdknhClJlMCGf/p4QAABDQ6tBIAK3w1lvF/cuzXJDdDBFAl///Ea2Nio1Q2pvAmKSbXM96MTL5fQX8B6NNk1nJCKMIqlB/YmRVNoAVhdjxC6gYEzJhUwKhyM8TavMML/Wf/2+P6CmAAAAP0GflEU0TCP/AAAWIp6otEkUR9eoBUJViujlDIwAAue41v7Vs57Ge3JPELWii9lDq+oWKyDY4MUVmru3L6f2LAAAADwBn7N0R/8AACKE4Pek3xQMSNytdGtGpfm6lC9R99/CiwAS1GzvYriwGsb53zR3GVD9RX/mVtdbBEVteLEAAAAoAZ+1akf/AAAirjEv0d27gD/y8B+BIPidvmcxGHoJ7w/MW9P/CXVwQAAAAItBm7pJqEFomUwIZ//+nhAAAEO6bzxOSHTgARkfcLVlZ40MWbIzP6CsWwQknR8iVJBrBjqPNUnaWxLtnlc7kRQS7FPTKvApawv+p7ZIzbiBUoEqfxv/zG5Gln0OIInpXVC1s7n/+SzW2VqyOPU/bdMDhGAT0etD6/tBXNJEtve86NZMoU0tp5rwRq3BAAAAR0Gf2EURLCP/AAAWIf29kmjNQppS+tFY0DCEE4Kq2FjI3gbWwHNSIsJVee3MjH1qAA/neb2YKuShKAEzG0b+7bDVRiJCrbehAAAAKwGf93RH/wAAIqnOxZOFhAAAXQ3tchN4RHL/3JHg0Z8YFaJ5dJYmWCrynTAAAABFAZ/5akf/AAAisehhdDnwcNwAoNO9VzWIaDA6FclO9+9mTcVu2oQ/6Na3lHTI2jWKxKLVHPTLR8F2y4GuoQ1bIHKhI7ehAAAAbkGb/kmoQWyZTAhn//6eEAAAQUPVd9MNKnFQF/KSMmZlTHhdsj9JWKBT51tOXVptvv4ftJfDG7D05+WXl1BjQmrN1qGCRdCVKPaYBF2XnfH54NWKIVOuRlLMeD1zCKSX4mubxgpO7NcpmcQLANZgAAAANUGeHEUVLCP/AAAVkp9Ns9zGth3xv2dDZfxBF+QVdhLDIIPV5aTNfii3DXjWa3gBZIv/1t6BAAAAPwGeO3RH/wAAIcC5lbfJvpufww4hHZ1XChLqBpnCLFuhPXcNoz4qzyAG2fgDldqZcFlSx79DZh9vLSjiMVPiwQAAADUBnj1qR/8AACGuMvr9ES5LqvuF5kluKQyfR0IzX5+6QbqZgAD9x4X5rz6moIu+xtgi8tLk2AAAAFNBmiJJqEFsmUwIX//+jLAAAEIBYbYnp2XozfJYYBFBU16qPxYZv4dePaNIqcZZJsmNMFOj/9E/j5d149y6QEMq8wAG7ydxgipNOsoPGrsJRmRUWwAAAEdBnkBFFSwj/wAAFZHZ0+AIi0E3idTV9px/Ln30aMLeQ2Oj5JVgUzAFwAIcD4jA3RGfzMxnNpbRT8yttjHv7NBP701BV/2nowAAAEQBnn90R/8AACGYsb3bRtR8ffWECy8e0M8tQAkwBNHfrpwqs95tA8npQQVhKEQgxoAN/xbMdOFEQF6ZwmbpnAOHiklzjgAAADQBnmFqR/8AACGuMS/RzBR4x67d8UV5UAJYNj42fLm5RH3piq/jnyQNDHxjSRbzw5PnXW45AAAAzUGaZUmoQWyZTAhn//6eEAAAQUUBRY4AWHUonIYX/vJKj/BHnDcONfiOlOnrlfWpa/3jFioZGvZIU19aWloM+XMUU9P6nTiHtCwfXfu5Kt3TZ0EApP6207pjhLNXesSr1oWzBZwWWG+n2Al0ztpyR9W184sfJQ23/jsJNB+KyRMtzsQY7Bpvtc6u9DSqSWzK0At6A8ByeO08D+Mczz3p8yrX30fQToix/7c6h6hW2YRS3OabH1c7VKDka24N3A9+lMaPzy1IFim34nbDkoAAAAAxQZ6DRRUsI/8AABWTQo9uenk0quDcV9j3ralOw9zkYprFhyUYxm71Pb76Kkr6St6TyQAAADcBnqRqR/8AACGx0m6ACMBFN6LVu7T9vQ/65V8TiIy3TT3oe7ChaJkC9uOk3NTIgiGCZ6WAiDyRAAAAoUGaqUmoQWyZTAhn//6eEAAAQbpvPbw8DgxIAV+hgwKI/aNAx6Ft3JfPTwHG0JwtZxq8RtIucJ0lGV+jzMzzjYpVkg97v9WvuVzTpijU0kNlvXkVoJag2OVvCf4/Tx1cKtJLikIzXfYiWwKoTeF0i9WPybll5oksJnGEqUcYYtJ6SfyfUTEoBKT12eOZStHNAeo3dTo49VKGZ/5q5TAmJR6jAAAAWEGex0UVLCP/AAAVkp8EwMJvmRfn5U6QcvzREr6JCEkL6KYIfDvCNN0HDxOeRd0E5dwWzUgA4wKTR4neZcpXpvJiyYf0CdSJUkuvrExGp+NGLtwfafmIRWEAAABBAZ7mdEf/AAAhqcyodSV1lr6ics/Bh4FjYjuiT4vsh+Dm/HcYGjBMjrAlZM/kIAHtZ3o2EepgTIUOBy8/vC3ryisAAABGAZ7oakf/AAAhri0rZ9TS/aAlOyusMlWQ9l2o3CjD3RBs2r91xAQeu3OkxIxJiSVAA+vdLVuoZSW3bUm8TFAUnBwqNEaHpgAAAHxBmu1JqEFsmUwIX//+jLAAAEAkfmIcYAWHw307+ARDxnKSwDChPrwAdivqOTQosLvWATPVRLQewA6nkdndm7HQ1LLonaRd6FZ4kxf3CGdfZbmIE45oWQgR1WF/+/iW7nk7KUR8rEegACUXpsTJ2jneAa9KtBk70y3kotwjAAAAPkGfC0UVLCP/AAAVAeaEwAjZVedtwbKBz4RXgetDnyYHCPFpuSrAW704Qugl7AWxEmS2xBeSr3mS0e38lj9MAAAAQAGfKnRH/wAAIJJXClQSuQ8h6tQKfvr/IsrbgnK7rjEQjfDrgUvrKACH3NQDtlfHfUzXmYdbmATO5sQsoMLNr9MAAABHAZ8sakf/AAAgvZYNCBdyBR0Pm9MyCodfJDg/3t451ZvmG5o+64EJBdmX1JIgA2olqAicKZL6qmtLLu+2x0ySp2hGMUv4HdMAAACIQZsxSahBbJlMCF///oywAABAM8duPFxX+SbWBXoOCcyH+087BOU/P7bUTErHSDEc1tm/68dfJwE4U8xoofrW0dr8TNGrXIq+ylS75fWK2X4XKz69FGhTb8VzlKFHESRB8NvG+UPKYNvainCF6qAR228rA1M1isMdmtPNYrqDgYcNSKXVQtaX0QAAAENBn09FFSwj/wAAFQKfHlut05CKc9n7E1AQWwFJtYjyv9HnaZNohKuMbBv4bmhhxLY8Hnm2KWxDtf6qDKEvMSN81OBBAAAAPAGfbnRH/wAAIKnO21D3Kszmip53LslCrU2hoBeS9l52aJiy0dH6wa2gAQ3cZ80kBajsFj9RF9B1kl7pgAAAAEwBn3BqR/8AACCSJYTSPARwKJk2WSnZ5h50goajjyYOq5iE3PoOavLUKGOMQKSo83ziwkgAH5ZmBVkk8sfQHb9mdb7SAqM8UUc6KFmAAAAAekGbdUmoQWyZTAhf//6MsAAAQAD2wPNhqg7HdV/gfqCArbj6IaBWnM3Zr6TH3S47xJK+i4remasrTDXjndsq0xsM4CallFRMOkKpgFfkGr4D+OWmmOvpWoGMfMraQlmdoRoM+63NUus3p6JyG9KHnqWPHD890DhRivuhAAAAUUGfk0UVLCP/AAAU+A2bEcQTfL8w2OsO76xwi7S5yXIGZgtfI/ykNA2pU/rtY1E7UttMAYcEAEyvMCvVm3Qc83zopUQtF39+qgEC6IqShWCrugAAADMBn7J0R/8AACDAuIaDfYsslihRBuWVaBilz0jVRUO4F0MbKmugwPpHSM6Wz3iWTS8DX7oAAAA/AZ+0akf/AAAgrjEv0c1CkMjbSRae99xV0CEljkI2/iPuo4UFAehrXqX/dWSJg3hABMpG48Tq0MdMzscO7fdBAAAAZ0GbtkmoQWyZTAhf//6MsAAAP/4qsAszov6vvSJc1o7FLJX8P6mvmFhYiPMgWvw9mU7pXcoF45haTea7Aa2ZA2aKjqtvsKXFkAX0lVZR9ZtumRmN9UKuYzx9c1ZldGiykQG10unEkqYAAABpQZvaSeEKUmUwIX/+jLAAAEAQehZ8AUkrnVMh23PhaIh3Ra7L1IGSLUaV4igqSzegF+RGNyY8F7fpkgHSkzUHgNrBeOE20t9qcVKDFR+M9m+JCFBGtzllaIIlr5v+CQv79b3ZEiCOe2QtAAAAR0Gf+EU0TCP/AAAVAyu1BbmYkQOkqEC5FtUv8bUFwbDx1VdT/bn5vmVqbhkLirA+mPcXd0qaSEnTcgAi1f66ccffwyPGwHtBAAAAMAGeF3RH/wAAIKnOxZLnJzCNqyLnMmNLFtSb9erYopdJCyJgRgghyx90awPakk9VlAAAAC8BnhlqR/8AAB/OW5VAfEWsO2bKSUFJnhNxtap375WeWUM8+964O4q2G6ZpS0MlIQAAAFNBmh1JqEFomUwIX//+jLAAAEAC+t4CI6Jq0ZTi1ABrad4narTzQIriY019a45e+T2Qgm+ltqmbHV8auzAgcacbssvyk04VIwrde5JCIYeJi0LyCAAAADtBnjtFESwj/wAAFQxDzcu7s5rOw3Bt3NMZBPVopb7q4Jhjg4AQd0s8yeSyQxIP89ytDETFuXZOzuq7YQAAADYBnlxqR/8AACC/BCdfJ9l3SX2VEMIX0lJtIdurTQPc51eV6Qca0CotAABtM//VrPu5km5PT6MAAABXQZpfSahBbJlMFEwv//6MsAAAGMKgX8E/IHMA422AGV+O1AioBAELUoHyG5Pi3RG76wn4f/VuiR8fNCCa3eFW7VNPEbOaAe2/kPcs7AnlN5kl69jPt1ZQAAAALgGefmpH/wAADJWIjZP6CVqQMSLYS3ThdS4FoBQoAH837MOj918F/zsjCy6smrAAAABjQZpjSeEKUmUwIX/+jLAAAEADb7cDJ1Ff7bsGG/SnpSvAjfu55VaT/ZPp+uzZJPl/V5a6O4bamON+udvhcnSGwlhKrt41hZnQOWXZj2EfwGAz9mbj3R3Gtn2o6+PLgKbI/S7fAAAAPEGegUU0TCP/AAAVBSs6Buwvqjrgo4LCLqBHpUApu5REHsg4AWrdmKNVhytaTSeWKpUmi6T+c1xIjJU7ugAAACYBnqB0R/8AACDDF2GpiSt0ic876v8+NJ6LwgzzCi9rHSJxfMYJqwAAACcBnqJqR/8AACCnfhY103GO9/tVsdsv43CsYOjc8/uZHdgfR7v/90AAAABDQZqnSahBaJlMCFf//jhAAAD4KAjsLQ2jDGlqLBgRNc6wTU+LDP+HG2/1EwnHgGdL8N7dy4LtJts82+zu9mWDVHYB3QAAACtBnsVFESwj/wAAFQUrOg5/LooLjDBPSJrMm6FRAHq4qbsB17592eilLM9HAAAALwGe5HRH/wAAIKv4XDZGLDDCrKkfew6v7HuQ7pc6fC5neAD+DivO75mJzhq9YPRhAAAALwGe5mpH/wAADIdFpqPzldfVBmXC7pz6pPCSzsMdlsSgPkXfIGyjpmlqbn3nSV2xAAAAREGa6EmoQWyZTAhf//6MsAAAPndsSB4POO4wFHU/W2qVvkxq0o6SsoPS8BpAELP6gf5moIx9yTa0O/Gr/N/pgJc51+mAAAAAREGbCUnhClJlMCF//oywAAAYrAUyOlRzjOJsUXY9diPjBGcMIReSY+1a7gATIbVOBopZYKM1PYaOtJqGBAl498oFiv0wAAAAaEGbK0nhDomUwU0TC//+jLAAAD53bM4gCFufpAO/7FfuW0YZJA1WFe4l3vxsdc5RkZTB/81qPHyr7jm+bB68NlmfWZdrGR91kb1OVv2eMeVQiPBGJ9n28SrVjFT5Y7ApSHEl/a094sNhAAAAKwGfSmpH/wAADJJOxJNWOkRppjvHk8d77wL42Fn9pkYKgGKe4SJk+eNfq2AAAABaQZtPSeEPJlMCF//+jLAAAD5h8IgBbx3178i/7guC0J739JDfn1uQ3ydGjGkB7QnY4BmNucyIRIgD7RrYQhX2bZwHqFKUBYpdtyLlCd2cRbTb6JmZ1C0lGVldAAAAT0GfbUURPCP/AAAHw/pKG3lOprMpgcUQAxEiF0La/LHFF8iJNA3REMDb/CuT+y77utGpBR5jHRXe+00gSZDraZim3VyuAy312A/ytDzAAIEAAAA9AZ+MdEf/AAAMjgDVA5+X9Zwz2eCq+T4HFV5SChbRMi0GTnRV0Z++LNAK7aogATtjABxP7CoIBTqQClYAQQAAADgBn45qR/8AAB+qOIToW8mBIPMeifh6WAewcO7LK35JI31wALnq4fST1ov2GYw/83ibJyzVa+WtSQAAAJVBm5NJqEFomUwIX//+jLAAAEAC8HcQAnyOIbDlgT6rscviqISEcOWrZbxGCvhoVLp65ZGkYbYqKossrcoWFZkqGQwl6faSqgv4X4J3mN26Fmmozte8B9nZieGt8BKMYMdxtJj6Tgz0xRMmiTm419DBwZu7DmnK3DjpbX908s+VAW2T6AHQCq/LV/87On7mdKzcA7BTcAAAAD5Bn7FFESwj/wAAFQUTsx9sYDAbAPFNEa93p5+zSUWANQef7m5EponD34aduRe1pnCW9rIP4ftuHpE8HvvjfAAAADcBn9B0R/8AACCwqx9YfG8oAIyILnTMCQ7TSEdys2gSG8P7GNXdu4yhbmwxeWjApivNbyrCrS3BAAAAHAGf0mpH/wAAH7zYsfp62D7nZjN2I+EmJLmp9bAAAACLQZvWSahBbJlMCF///oywAAA+qK8GgE0ouPCy0Lfl1RFfRRwSY7IpVkAEo9kEM40dAW/lrD+rwRBFwePZrDGDJyX52WuEfWtGJxWBHr6QthzYazvBDV46yZ2GmAb7uZyxKrJ715plK4ZvuewzSHgWS9+/ILCHwGNbo2IK6MmaHPyWSsK9K4rvxG8B4AAAAC5Bn/RFFSwj/wAAB8dwo9OJ7SFMVclUHYBuJ+BROLSrnVeIu3wZYAAKQ0na91qRAAAALAGeFWpH/wAAH7zfFJ41jThL+vd8YV8CdXdEvH1FWwRyNvD/Y5m5CaTwA3TAAAAAjkGaF0moQWyZTAhn//6eEAAAPgJ2uAL8ZwWcqKVvSu1Cj9BCkjkftJpxVMCozRq4ZPG127npEhJDZXGlUG8yCAY4R6jrHNRDEmp/ll17wvwBCD5ooMcfRmQoxktxVCVIesW8qKLjA8BQbfhcGCviR6AN6on3cI92tC6Kj4Pxv/6cAs5HZJ3P+5javctTnuEAAACYQZo7SeEKUmUwIZ/+nhAAAD9fg3gAOj8upt3bXZwJ0wRKTFp8GE2QINpL5Fdv+0y3U9NhDc3jvxh4GZFILP1B5/VAt/HdRF9Cy+FvBm4t4EJJHysykoLE/6bP0Q3s4JlOoGct1ExL/wDE3RJYpAaPUpC2zWEEYmv4QCWexyJ8+SoAwCtehFHB5HET9/wZUi4ZKZ0R1fH8btcAAABPQZ5ZRTRMI/8AABUYn4A5arZT6+rm8EKzv2bIo4sQAVzstBeCSQ83VHXjcTzuRB6sN6mgC5JUslUQYd2kVfVLbvRUhiDZBH511zZN8o30wAAAACsBnnh0R/8AAAyOANOqUg8qhDTChCSBMENrelbPMirT/w17Q72f0NKoyrsxAAAAOQGeempH/wAAIMdDmzkaTlM9ZC51OI8kD6dtOBfktgvlufCXTZIjS2PJ1efjEXkrRbxxznCFxNV4sAAAAJlBmn9JqEFomUwIZ//+nhAAAD9rSgsD+usAHRJzU+WMHhXxg/HU5VdQIEANPn9aqr7A5RcnYxZfnk0Uk4Kv+8U0cMOjSe9pxVf2fPOTU4e+klQa7deHdnpZkc/2NyDDa8/yUFint9aSJtwH0ZSB72tOig2bk85R7uF/13d+Qzf4ERVtCForIYCTIBjOzqaiPSCLCn5Ee5kpXxEAAABTQZ6dRREsI/8AABUFP2PnDupOhy3DrYPE28KLODRP1qWri+ivMV48xD3MSRey02lTfM21bp2zgCoT+QKAVuHyXEOY/KrxzYX4yh5KgkHmEswzq1MAAAA2AZ68dEf/AAAgq/hmLZvTFmqXsocHInmHcZ0yMO7gI1P9p6PhGRIft8NDXb9roo4qDyzdUL0wAAAALQGevmpH/wAAH7zfGcW54hJewZeEh8NjfZuR/kQ89wif+FvKl1rKKeAY/nCTYAAAAFJBmqNJqEFsmUwIX//+jLAAAD5oyL0vYTiWzkOHNewwuZM54X+pX4DYEDETuCuDmCYRLZp3sAeJ1RLYPB1uxFYAAIAmt6qrtvzxe8F3CYLVxcHhAAAAR0GewUUVLCP/AAAUdV9NP6dDMX1LI0u7wjOXkp0iXZ9huFXO1e2wAWpFO2koFxK0hLouT6WW8hdsY6o+7kHdubmoVft/dqNgAAAAMAGe4HRH/wAAH7inhOgJGJKE5YjQeARFNQhZIiJfF9lmyrRgoAJf7Q8uUcV3fLkmwQAAACIBnuJqR/8AAAyEznoetRddGiJReU9apieLxkJYJ86O/1bAAAAAckGa5kmoQWyZTAhn//6eEAAAP2HdAAdHbWscpeqlbJo3AvW1GzL/WYdRp44KTbB0+YVYLJ6l1VHaOM5ASnjLQUALSZTf//6JVwTJXSUgMK82nAB83MKvO9/1bRW46NR417T82mscRoQOZDjZfsNxXIM8wQAAAC5BnwRFFSwj/wAAFQxDzbdRRlgi+3nP9SDNgYCwri5sRBqBv2Xgq2eQAU6UAe59AAAAPwGfJWpH/wAAIL8ELFzCLULgFf2Np+99/ThNobldgKubxYCmcRxAX8ImJUAD+dpDkzqtfcevqDi/PFa+PkjHwQAAAHRBmypJqEFsmUwIZ//+nhAAAD9pxZzuT5b8dHAXZeykaa1QB4KJLXJ9y5R+90Ix7aikZxAB63HNnQuI0OOGiTEzQqgh9HRHlFWIxdq9uifet7xLbiX/Xi1171A1oURoohZ36B9YTKRZxDGkpGdA8bd1J7+VMQAAADhBn0hFFSwj/wAAFHVfP3EyBrN2STaPv4EvHqSR38MlYLOb0QdvoEnvHhyTLnU6v7SkATVQLyd0wAAAAEEBn2d0R/8AACDDF2Qp4rORVi9TFSkSzvj6HjLRgAAXNt8nAidDbXFVPzMwZo3WZS5f/VsxgotaLxwqpzpTIgPNgAAAAD4Bn2lqR/8AACCyJ8lEcX/HOYRQsFApIapgywSAKhasz6xVQ4JqVzSGe6EUJskFGxHufujNZGTI5Enq9TVT0wAAAHhBm25JqEFsmUwIZ//+nhAAAD9fZNmFWgCDlffD+S9JKzGNhv3ajvDzshwabWQ+eTrUkMll0Xxq5pam88nr++OOUgWQJbu0sa9aplsOKL/ktBpeuPaolGisxhN3jR/HRFgMwy05Ui+4u84/SRu53ZixylbgsbKJJ2AAAAA9QZ+MRRUsI/8AABUMPRrWkWMolGmyGj4qBPpB0XyhnJ6AGKZINHcGbWRwpybnRYh39zQK6XQOvDL6Y6a6YAAAADUBn6t0R/8AAAyR0JCs2fYo8FN6wAXE+hqpSBnvUi8dT+xAewbnllkVGHFesbIS04SUJ0tfNwAAADcBn61qR/8AACC/BCcSyv5z55y33kT2tiyjMujNLtoAFxP6YKYQLbxaklqZ8hWxVJakmht60NdNAAAAf0GbskmoQWyZTAhn//6eEAAAP7wnP+JtjVRgBHvXgtDSHCFiUDHsZvUXyqPfVd0IPKlwiBPt8asXmHIsUlUyF8mgGTsC2mFpMgjH5Ixp3fJW0H7QjC4XhoNj7PSCSMEQ/Q8KQPiKsdYlbSUCO/mb1uWok+4uDSqJXLUTIZdOyYEAAAAtQZ/QRRUsI/8AABUDK7UFuRwv5dDXsZLuZDVpyemwAXKapxyPHkreVp8L/GR8AAAAQgGf73RH/wAAH8siUzSxE9UJqoAONy7erJJTuU0dsNa77dRRCjNVItxnDNVVUAUbKN1dDBhXH+n5faWzOrvJNLLpgAAAAB0Bn/FqR/8AACCxzAlvqXKK0PlJHqNl5B4Eyu4lWQAAAFRBm/ZJqEFsmUwIZ//+nhAAAD3+3Mw75eO5CILBk+QFL+7feqoSRh7kIpy7auqLFaKTXjQ1+LpcmGevx+JgMxUD5/I1nAIMJc60dUfDqQWxjJBIdMAAAAAmQZ4URRUsI/8AABRzLIvEqpcUgAidbkYK/VhaYls7GSpSMDiqbpgAAAAjAZ4zdEf/AAAfuKHmUMIAC56vgTvaD2u7j7L0YJK6+RIuScEAAAArAZ41akf/AAAfvNRqEUfAAtP7gBgTXPmCbb4m+9yobxPY22LbCMdsTl5SrAAAAFZBmjpJqEFsmUwIZ//+nhAAAD3+RIsABYKPqGx4lXSrARUa6LO5OytfmbSl4uK5qLgVjH4H6jHDlxKHAWxH0V9FaXOrdotekcvaXDEKPYOMWUA4OGuriQAAADxBnlhFFSwj/wAAFHMshfzR0CIia5a7kWijiZ8FPIa1o35W1c81hJarrATQAnWEaaIuy6BaleU31NC9k/8AAAAeAZ53dEf/AAAfsVhgsQs83hr6UF/4lTRDnY0vwTNbAAAASAGeeWpH/wAAH7zWhMQPmgALoANEeONrCTP6nONFRHHBJgc0fyOYQBtZAwY1csYDiTOFrAVID7SETxT//wVnnJm+pjKEUDVUqwAAAGFBmn5JqEFsmUwIZ//+nhAAAD4icdO9lxByG/B9R93ojwCvCP2hNAAS+E96fvooIVPxNjyERw/nNhs4qTPpvT+TDQZofyNS3R0ex4kh5kWKcX/19ArD2jk75ZweTT/7HwYFAAAAPkGenEUVLCP/AAAUe5RYOZuC6/5sjEr8FwLkELCSQAmrqWBLf4fyoXHWrlU0Fk+5WdIH7WNVC79AahjAJV+7AAAAOQGeu3RH/wAAH7ijEmOeQAlT3wewe/qxFOIg+joXMvBccbCXjtRgNkvHPHCRi8fKiaZJUQkT3xWvQQAAADgBnr1qR/8AAB+5pxWPlRDVo47gAC1YBgd4Doe4yrSVmGpE3uxBo2LPLKd49sDtL6e3U/RIQXzPQAAAAFdBmqJJqEFsmUwIZ//+nhAAAD3+3HtdOEBFoiK+AbxeK0ABb1/f65q+OXPp4feYmB9ds5MElb6WZM95aLRP7Xa9bmhAD5bKqW3uPiKJ2H7VNDLVtYC9IJAAAABEQZ7ARRUsI/8AABRzK7UFwTQEK3kN4u8MaZnq4ZR4T6zPVBHfg4cJbYPiAV01w0e2H94vHTHpKGnzCjX5T6Hrx+ND0YEAAABKAZ7/dEf/AAAfyvjyqat+ULpBIXABcMAu8GU2dDxqWGNS788BiB3Icc8czfknREicc6umV8sQYWh+kxnLxdU66bJufUqQboMWU9sAAABEAZ7hakf/AAAfDN8axDgAtGdt531DGrG2U3309mO7Ej1KT+gWT6LeHJdRMmzrqrrDZLtNFevKXsDqx1CTBnJo7aDXd0EAAABlQZrmSahBbJlMCGf//p4QAAA9/uYiXKAL/brUqO+FDam/54Dy6wwTYOv6LKDqIzqqmSfe4Vv6mxmW1NozmH3jHs3FXFRxqu6nw2Xd3YVVSkpVzkgXv47m9Qs71ORySe4Ntrg8AfkAAAA1QZ8ERRUsI/8AABRyoWvAHL9VKOuXEUcpSDdHIPXwK4jeIyYjiRHFn2oS1uetMADpfa5l6MEAAAAlAZ8jdEf/AAAfuH2pfTICMVUETB9rhEx8yMzxAJ9KpssEnZj9GQAAADEBnyVqR/8AAB/GwGEHx8eGRfcjYkA9gAlqnUtGM9jNjm/wY6SH2dtac8dF87wf1lu7AAAAUEGbKkmoQWyZTAhn//6eEAAAPgclTbd0omKM8JO1sid37v7kQQAhAjieUVGVWYe+Yjj3+WNHkwBp9weRmPL3MfXzOON+Ou+IVrPRipPHHrZFAAAATEGfSEUVLCP/AAAUcyu1BcE0AddxraCU0sjhTk5wfCDuio2CtMPvI+ZazmWYrFa/MrC3htGBHT5kSzyz7PuTsCjGPq/DTIV2cSZ32WYAAAA0AZ9ndEf/AAAfytMpHiagySABaM7h7vM6zqUilwpAx2iEQWrle7GKYt6BzGziYlLjvCWe2AAAADcBn2lqR/8AAB/H/VSXmU01eUkIrKAC0K0++nZ7yBGYuDfu+av94CE4mwfFhueH7OMpj6B/oPghAAAAe0GbbkmoQWyZTAhn//6eEAAAPf7cVB/EAR2XouA5xcHmHpR3urb6SuA/sDuHlpBSj3z51sQx9egORb0QUOAomiHozHLCLtNVatli5zBRIGrd42sxuIezfpiI+M+ZFmZ7dwSkKalVGLE34BPK5kMzkFTlRys52fCCkpmOYAAAADdBn4xFFSwj/wAAFHMrtQW5HH7dtWMyAboRDWFHWM6uI6/agk5B95f3UARYFZus5dsizjRqiPbAAAAAIAGfq3RH/wAAH7ih4ZudIQhrMugMO2eiL+WqAQvJJ2l7AAAAMQGfrWpH/wAAH7yVGG4Y9DTonIA/JwgNZ6xjwAsWfOzV7bZT0QLA1Mu3LrU0fmIndsEAAACkQZuySahBbJlMCF///oywAAA+vCc99/c+AavoxT54CXv9cW0rCldFoPysxqZ7X6Vs1Y21bC84ZQpavQ0HvbTQBqG+4j9RJCMsVVsmeJI6bsNxgYTInkYWK9NZDKEjp4PC+zkgzHkskvLh6993cxurHSMJwQU5jX15xy7tNn35r0CoszH9MlYYTAq9jfaZlhwE4iF7WJNkpwVlRoKYaxhUkP+ANHEAAABLQZ/QRRUsI/8AABR1E4hcgNLWlmw3AoQg1jdxWKXudBLJcVMPFFjYNzqO7iMJve8OERmJurlHCDjA9Mp3i6RHQpu9USn0LfyVjMZ/AAAAUAGf73RH/wAAH8rTKNg/+BTDwBo+Y5g9cPtY4fvpA27LgaoGjfMhCs4zwEJP0WXv5f5ZGBBSOYbnrhTgfh/d1zWEG5YBKBuHDy1Vg3QxK6McAAAALQGf8WpH/wAAHwzaVbdZ2CDrGfLzaUMb98reLAwtj8GNAhKfPe6O1yYwsQd5QQAAAJBBm/ZJqEFsmUwIX//+jLAAAD0XhPmwwBP8zyaj2MrmiiVcI1bOkpKXzUF13ffkQ3OPwm5F5prxJwKeOkwu0IbQX7wfi+BT2zN3WY+xuiz28Au0mRF/m6rImxrZFksOPgQA9XFU784/XBle2oPrl1+hnsoFwo9li//7/lEdiAOZYl65rgOYwuhLsFyxXxWvaDwAAABLQZ4URRUsI/8AABPrlJ6X8DcNkwPckZgMtMtMagxd/BK1ft7SJsFl5fyUlD1+Bwx5H1t0gALUiWYKgCb8G1rk5/Q33ZblWar14PlAAAAAQAGeM3RH/wAAHxG2qUeqEa7bzOMc5EEdcLZEQ+ve+X9nofcFiAHMjQAP50Kq29z8RpYeKncF1QBGCGuoeDt2fVkAAAAvAZ41akf/AAAfDN8Z0lM3TWWrhbE3qytqkuGkQMmQYwRZVIF8Vk4zj7RToSuXnekAAABjQZo5SahBbJlMCF///oywAAA8/ccOy+LT2LupLzFvi4bBAFUeNoSiHT7o+LYdrPiRuKU2OtA/5Gkq64D+1sYO4RM1fafRItXc1x3MhA2BtAVYY76vhv+0XyPfMwqrF4v2jgCZAAAAQEGeV0UVLCP/AAAHm2/V48vVpeBBEKJ6PwmebKxE7wv+jpScfZ91r8ShdRswlM1wAIfhG+r8aXqxIMxcVYWu9IEAAAAuAZ54akf/AAAfDN8Z0lM3TWTpZQKJH4IXe53hS8b4MTVyhK35mbBLTfXvlhfekAAAAG1Bmn1JqEFsmUwIX//+jLAAAD0W5fRywBf2RQDlv1SJbPhZGDz2bFPa6OL9CFO/BzzdHVTMkiL+pdElzhz/vVgM4txm/LaJSPEI/Y/LgXcmUPNRv1ctSlqRFqFZ5ZHBBmhTx5+NwviPg5QiqN+9AAAAOkGem0UVLCP/AAAT65RYQ8NEJOBFFSFrIunLSsWDMnHCaT7SuxD1Ltr9kEAHt10On0Uh05bzTKsJbygAAAAoAZ66dEf/AAAe+b/KV+XBGhT2zg79VdddxQ2tQD+Yau4YwpQTU329WQAAADMBnrxqR/8AAB8X6XJDdJ45NqT4Ha7EP2Fka6bqRffIAuq3FsDO12edCABO3QrAQmAD/+EAAABOQZqhSahBbJlMCF///oywAAA9AUVgCPepPfuUoLldZ5TwlP5oZvx2e8fz+gJcdAtZSwZJFAvDFEGeN9cckV1dOQED68dvZMBw8AM/iqJgAAAAL0Ge30UVLCP/AAAT5UQIP6nQNgh8l0tSLlo4B+JhIvWvGg+7Sxq067gjTuq5W/LwAAAAIwGe/nRH/wAAHwh9sl1walSLjWb3t/abVIppK3Yzb8fFJ5NrAAAAJAGe4GpH/wAAHmgBdgld3/IAlQSIBCpFWeopExptUVtd32xbQAAAADNBmuVJqEFsmUwIV//+OEAAAFq1CLaGeaVTNe4wBdSzbkexkNrrD0d04d4IQAJdOSM6TQkAAAAqQZ8DRRUsI/8AABNioGJkPZq/Ym0AMkwMhb66sCL3OXvjQ5c8uovwJt/+AAAAIwGfInRH/wAAHlin1M141pbS/G4R5XB1AS0yfaoXCWt8yJ8vAAAAJQGfJGpH/wAAHmgBdf6yFpOmS/hxPEjxsMmryCILCek3JI3a+L0AAAA7QZsoSahBbJlMCP/8hAAADiXkUaKv4W6n+R1ErF1/KjWaM8+kMjmOxmyAnAc1wMH50WjARwcvxOdi48EAAAA7QZ9GRRUsI/8AABP6AwASzIobkPOrvAl0Pq+X1CgEMAKgLXDfCsJOetN5o6VDkew8FHnudBfn8l81S7EAAAAxAZ9nakf/AAAfDN8Z5odO+xzE7r5xCOEZVLl86oM0M8ABDXsDGr22wuiZOHNSBTM70gAADD9tb292AAAAbG12aGQAAAAAAAAAAAAAAAAAAAPoAAAPtAABAAABAAAAAAAAAAAAAAAAAQAAAAAAAAAAAAAAAAAAAAEAAAAAAAAAAAAAAAAAAEAAAAAAAAAAAAAAAAAAAAAAAAAAAAAAAAAAAAAAAAACAAALaXRyYWsAAABcdGtoZAAAAAMAAAAAAAAAAAAAAAEAAAAAAAAPtAAAAAAAAAAAAAAAAAAAAAAAAQAAAAAAAAAAAAAAAAAAAAEAAAAAAAAAAAAAAAAAAEAAAAACWAAAAZAAAAAAACRlZHRzAAAAHGVsc3QAAAAAAAAAAQAAD7QAAAIAAAEAAAAACuFtZGlhAAAAIG1kaGQAAAAAAAAAAAAAAAAAADIAAADJAFXEAAAAAAAtaGRscgAAAAAAAAAAdmlkZQAAAAAAAAAAAAAAAFZpZGVvSGFuZGxlcgAAAAqMbWluZgAAABR2bWhkAAAAAQAAAAAAAAAAAAAAJGRpbmYAAAAcZHJlZgAAAAAAAAABAAAADHVybCAAAAABAAAKTHN0YmwAAACYc3RzZAAAAAAAAAABAAAAiGF2YzEAAAAAAAAAAQAAAAAAAAAAAAAAAAAAAAACWAGQAEgAAABIAAAAAAAAAAEAAAAAAAAAAAAAAAAAAAAAAAAAAAAAAAAAAAAAAAAAAAAY//8AAAAyYXZjQwFkAB//4QAZZ2QAH6zZQJgz5eEAAAMAAQAAAwBkDxgxlgEABmjr48siwAAAABhzdHRzAAAAAAAAAAEAAADJAAABAAAAABRzdHNzAAAAAAAAAAEAAAABAAAGGGN0dHMAAAAAAAAAwQAAAAEAAAIAAAAAAQAABQAAAAABAAACAAAAAAEAAAAAAAAAAQAAAQAAAAABAAAFAAAAAAEAAAIAAAAAAQAAAAAAAAABAAABAAAAAAEAAAUAAAAAAQAAAgAAAAABAAAAAAAAAAEAAAEAAAAAAQAABQAAAAABAAACAAAAAAEAAAAAAAAAAQAAAQAAAAABAAAFAAAAAAEAAAIAAAAAAQAAAAAAAAABAAABAAAAAAEAAAUAAAAAAQAAAgAAAAABAAAAAAAAAAEAAAEAAAAAAQAABAAAAAACAAABAAAAAAEAAAIAAAAAAQAABQAAAAABAAACAAAAAAEAAAAAAAAAAQAAAQAAAAABAAAFAAAAAAEAAAIAAAAAAQAAAAAAAAABAAABAAAAAAEAAAUAAAAAAQAAAgAAAAABAAAAAAAAAAEAAAEAAAAAAQAABQAAAAABAAACAAAAAAEAAAAAAAAAAQAAAQAAAAABAAAFAAAAAAEAAAIAAAAAAQAAAAAAAAABAAABAAAAAAEAAAMAAAAAAQAAAQAAAAABAAAFAAAAAAEAAAIAAAAAAQAAAAAAAAABAAABAAAAAAEAAAUAAAAAAQAAAgAAAAABAAAAAAAAAAEAAAEAAAAAAQAABQAAAAABAAACAAAAAAEAAAAAAAAAAQAAAQAAAAABAAAFAAAAAAEAAAIAAAAAAQAAAAAAAAABAAABAAAAAAEAAAQAAAAAAgAAAQAAAAABAAAFAAAAAAEAAAIAAAAAAQAAAAAAAAABAAABAAAAAAEAAAUAAAAAAQAAAgAAAAABAAAAAAAAAAEAAAEAAAAAAQAABQAAAAABAAACAAAAAAEAAAAAAAAAAQAAAQAAAAABAAAFAAAAAAEAAAIAAAAAAQAAAAAAAAABAAABAAAAAAEAAAIAAAAAAQAABQAAAAABAAACAAAAAAEAAAAAAAAAAQAAAQAAAAABAAAEAAAAAAIAAAEAAAAAAQAAAwAAAAABAAABAAAAAAEAAAUAAAAAAQAAAgAAAAABAAAAAAAAAAEAAAEAAAAAAQAABQAAAAABAAACAAAAAAEAAAAAAAAAAQAAAQAAAAACAAACAAAAAAEAAAMAAAAAAQAAAQAAAAABAAAFAAAAAAEAAAIAAAAAAQAAAAAAAAABAAABAAAAAAEAAAUAAAAAAQAAAgAAAAABAAAAAAAAAAEAAAEAAAAAAQAABAAAAAACAAABAAAAAAEAAAIAAAAAAQAABQAAAAABAAACAAAAAAEAAAAAAAAAAQAAAQAAAAABAAAFAAAAAAEAAAIAAAAAAQAAAAAAAAABAAABAAAAAAEAAAUAAAAAAQAAAgAAAAABAAAAAAAAAAEAAAEAAAAAAQAABAAAAAACAAABAAAAAAEAAAUAAAAAAQAAAgAAAAABAAAAAAAAAAEAAAEAAAAAAQAABQAAAAABAAACAAAAAAEAAAAAAAAAAQAAAQAAAAABAAAFAAAAAAEAAAIAAAAAAQAAAAAAAAABAAABAAAAAAEAAAUAAAAAAQAAAgAAAAABAAAAAAAAAAEAAAEAAAAAAQAABQAAAAABAAACAAAAAAEAAAAAAAAAAQAAAQAAAAABAAAFAAAAAAEAAAIAAAAAAQAAAAAAAAABAAABAAAAAAEAAAUAAAAAAQAAAgAAAAABAAAAAAAAAAEAAAEAAAAAAQAABQAAAAABAAACAAAAAAEAAAAAAAAAAQAAAQAAAAABAAAFAAAAAAEAAAIAAAAAAQAAAAAAAAABAAABAAAAAAEAAAUAAAAAAQAAAgAAAAABAAAAAAAAAAEAAAEAAAAAAQAABQAAAAABAAACAAAAAAEAAAAAAAAAAQAAAQAAAAABAAAFAAAAAAEAAAIAAAAAAQAAAAAAAAABAAABAAAAAAEAAAQAAAAAAgAAAQAAAAABAAAFAAAAAAEAAAIAAAAAAQAAAAAAAAABAAABAAAAAAEAAAUAAAAAAQAAAgAAAAABAAAAAAAAAAEAAAEAAAAAAQAABQAAAAABAAACAAAAAAEAAAAAAAAAAQAAAQAAAAABAAAEAAAAAAIAAAEAAAAAHHN0c2MAAAAAAAAAAQAAAAEAAADJAAAAAQAAAzhzdHN6AAAAAAAAAAAAAADJAAAEtAAAALUAAABMAAAAOgAAADcAAAB9AAAAQQAAAEMAAAArAAAAYAAAAFgAAAAzAAAAUAAAAIMAAABLAAAAOQAAADsAAACeAAAASQAAADIAAABHAAAAcgAAAEQAAAAnAAAAQQAAAGUAAAA4AAAALwAAAGEAAABxAAAAOwAAACsAAAA+AAAAUAAAADUAAAA4AAAAPAAAAH4AAAA6AAAANQAAADgAAACCAAAAUQAAADMAAABAAAAAYwAAAEMAAABKAAAANwAAAE0AAABGAAAAbAAAAEMAAABAAAAALAAAAI8AAABLAAAALwAAAEkAAAByAAAAOQAAAEMAAAA5AAAAVwAAAEsAAABIAAAAOAAAANEAAAA1AAAAOwAAAKUAAABcAAAARQAAAEoAAACAAAAAQgAAAEQAAABLAAAAjAAAAEcAAABAAAAAUAAAAH4AAABVAAAANwAAAEMAAABrAAAAbQAAAEsAAAA0AAAAMwAAAFcAAAA/AAAAOgAAAFsAAAAyAAAAZwAAAEAAAAAqAAAAKwAAAEcAAAAvAAAAMwAAADMAAABIAAAASAAAAGwAAAAvAAAAXgAAAFMAAABBAAAAPAAAAJkAAABCAAAAOwAAACAAAACPAAAAMgAAADAAAACSAAAAnAAAAFMAAAAvAAAAPQAAAJ0AAABXAAAAOgAAADEAAABWAAAASwAAADQAAAAmAAAAdgAAADIAAABDAAAAeAAAADwAAABFAAAAQgAAAHwAAABBAAAAOQAAADsAAACDAAAAMQAAAEYAAAAhAAAAWAAAACoAAAAnAAAALwAAAFoAAABAAAAAIgAAAEwAAABlAAAAQgAAAD0AAAA8AAAAWwAAAEgAAABOAAAASAAAAGkAAAA5AAAAKQAAADUAAABUAAAAUAAAADgAAAA7AAAAfwAAADsAAAAkAAAANQAAAKgAAABPAAAAVAAAADEAAACUAAAATwAAAEQAAAAzAAAAZwAAAEQAAAAyAAAAcQAAAD4AAAAsAAAANwAAAFIAAAAzAAAAJwAAACgAAAA3AAAALgAAACcAAAApAAAAPwAAAD8AAAA1AAAAFHN0Y28AAAAAAAAAAQAAADAAAABidWR0YQAAAFptZXRhAAAAAAAAACFoZGxyAAAAAAAAAABtZGlyYXBwbAAAAAAAAAAAAAAAAC1pbHN0AAAAJal0b28AAAAdZGF0YQAAAAEAAAAATGF2ZjU3LjgzLjEwMA==\" type=\"video/mp4\" />\n",
              "             </video>"
            ],
            "text/plain": [
              "<IPython.core.display.HTML object>"
            ]
          },
          "metadata": {
            "tags": []
          }
        }
      ]
    },
    {
      "cell_type": "markdown",
      "metadata": {
        "id": "vdLf3Tg64-6U",
        "colab_type": "text"
      },
      "source": [
        "## More interesting games...\n",
        "\n",
        "\n",
        "https://gym.openai.com/envs/#atari"
      ]
    },
    {
      "cell_type": "code",
      "metadata": {
        "id": "vHLtbE5K389Y",
        "colab_type": "code",
        "outputId": "28bb1941-2e70-4c5f-8f48-d4a03b776ee1",
        "colab": {
          "base_uri": "https://localhost:8080/",
          "height": 34
        }
      },
      "source": [
        "# env = wrap_env(gym.make(\"MsPacman-v0\"))\n",
        "# env = wrap_env(gym.make(\"Pong-v0\"))\n",
        "# env = wrap_env(gym.make(\"Bowling-v0\"))\n",
        "env = wrap_env(gym.make(\"Breakout-v0\"))\n",
        "print(env.action_space)"
      ],
      "execution_count": 0,
      "outputs": [
        {
          "output_type": "stream",
          "text": [
            "Discrete(4)\n"
          ],
          "name": "stdout"
        }
      ]
    },
    {
      "cell_type": "code",
      "metadata": {
        "id": "Jyyr0TJI486m",
        "colab_type": "code",
        "outputId": "e70819c1-feb9-46aa-9177-23c2f77c1b63",
        "colab": {
          "base_uri": "https://localhost:8080/",
          "height": 34
        }
      },
      "source": [
        "observation = env.reset()\n",
        "observation.shape"
      ],
      "execution_count": 0,
      "outputs": [
        {
          "output_type": "execute_result",
          "data": {
            "text/plain": [
              "(210, 160, 3)"
            ]
          },
          "metadata": {
            "tags": []
          },
          "execution_count": 18
        }
      ]
    },
    {
      "cell_type": "code",
      "metadata": {
        "id": "BiVRW_jy45F9",
        "colab_type": "code",
        "outputId": "5b0340d9-f9ba-43f2-d5e4-2e73cde828a6",
        "colab": {
          "base_uri": "https://localhost:8080/",
          "height": 421
        }
      },
      "source": [
        "\n",
        "while True:\n",
        "  \n",
        "    env.render()\n",
        "    \n",
        "    #your agent goes here\n",
        "    action = env.action_space.sample() \n",
        "         \n",
        "    observation, reward, done, info = env.step(action) \n",
        "   \n",
        "        \n",
        "    if done: \n",
        "      break;\n",
        "            \n",
        "env.close()\n",
        "show_video()"
      ],
      "execution_count": 0,
      "outputs": [
        {
          "output_type": "display_data",
          "data": {
            "text/html": [
              "<video alt=\"test\" autoplay \n",
              "                loop controls style=\"height: 400px;\">\n",
              "                <source src=\"data:video/mp4;base64,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\" type=\"video/mp4\" />\n",
              "             </video>"
            ],
            "text/plain": [
              "<IPython.core.display.HTML object>"
            ]
          },
          "metadata": {
            "tags": []
          }
        }
      ]
    },
    {
      "cell_type": "code",
      "metadata": {
        "id": "phBe3s6945Mu",
        "colab_type": "code",
        "colab": {}
      },
      "source": [
        "# S = [[s_t,s_{t_1},s_{t-2}  ]\n",
        "# S_0 = [s_0, s_0, s_0]     "
      ],
      "execution_count": 0,
      "outputs": []
    }
  ]
}