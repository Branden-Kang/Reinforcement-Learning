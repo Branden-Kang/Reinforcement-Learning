{
  "nbformat": 4,
  "nbformat_minor": 0,
  "metadata": {
    "colab": {
      "name": "Reinforcement_Learning_Policy_Gradient.ipynb",
      "provenance": [],
      "collapsed_sections": []
    },
    "kernelspec": {
      "name": "python3",
      "display_name": "Python 3"
    }
  },
  "cells": [
    {
      "cell_type": "code",
      "metadata": {
        "id": "SlRWIMjAKOaL",
        "colab_type": "code",
        "colab": {}
      },
      "source": [
        "import numpy as np\n",
        "import matplotlib.pyplot as plt\n",
        "%matplotlib inline \n",
        "import matplotlib \n",
        "import torch\n",
        "import torch.nn as nn\n",
        "import torch.nn.functional as F\n",
        "import torch.optim as optim\n",
        "from torch.distributions import Categorical"
      ],
      "execution_count": 0,
      "outputs": []
    },
    {
      "cell_type": "code",
      "metadata": {
        "id": "vpYushnQRWHb",
        "colab_type": "code",
        "outputId": "fe99c538-897c-4d11-8d47-da46c88d26b6",
        "colab": {
          "base_uri": "https://localhost:8080/",
          "height": 85
        }
      },
      "source": [
        "np.random.seed(347)\n",
        "class MySuperGame:\n",
        "\n",
        "  def __init__(self, BS):\n",
        "    self.reset()\n",
        "    np.random.seed(47)\n",
        "\n",
        "    self.rewards={}\n",
        "    for i in range(1,3):\n",
        "      for j in range(-i,i+1,1):\n",
        "        self.rewards[(i,j)] = np.random.randint(20)\n",
        "\n",
        "  \n",
        "  def reset(self):\n",
        "    self.state = np.zeros([BS, 2], dtype = np.int32) # tuple, (time, location)\n",
        "    self.time = 0\n",
        "\n",
        "  def step(self, action): # action + 1, 0, -1     UP / STAY / DOWN <- action vector of size \"BS\" Batch-Size\n",
        "    if self.time >= 2:\n",
        "      return None\n",
        "    self.time += 1\n",
        "    self.state[:,0] += 1\n",
        "    self.state[:,1] += action\n",
        "\n",
        "    r = [game.rewards[si[0],si[1]] for si in self.state]\n",
        "\n",
        "    return self.state+0.0, r, self.time < 2\n",
        "    ####\n",
        "\n",
        "BS = 4\n",
        "game = MySuperGame(BS)\n",
        "# print (game.state)\n",
        "action = np.array([+1, -1, 0, +1])\n",
        "game.step(action)\n",
        "action = np.array([1, +1, -1, 0])\n",
        "s, r, flag = game.step(action)\n",
        "s, r, flag\n",
        "# # game.step(None)\n",
        "# # print (game.state)\n",
        "# # game.step(None)\n",
        "# print (game.state)\n",
        "# action = np.array([-1, +1, +1, 0])\n",
        "# # game.step(action)\n",
        "# print (game.state)\n",
        "# game.rewards\n",
        "# [ time, location]\n",
        "# [0,0] -> UP -> [1,1] -> STAY -> [ 2, 1 ]"
      ],
      "execution_count": 14,
      "outputs": [
        {
          "output_type": "execute_result",
          "data": {
            "text/plain": [
              "(array([[ 2.,  2.],\n",
              "        [ 2.,  0.],\n",
              "        [ 2., -1.],\n",
              "        [ 2.,  1.]]), [16, 19, 8, 16], False)"
            ]
          },
          "metadata": {
            "tags": []
          },
          "execution_count": 14
        }
      ]
    },
    {
      "cell_type": "code",
      "metadata": {
        "id": "UdqoqrY5f8Ab",
        "colab_type": "code",
        "outputId": "e887b4f1-3323-4ba8-ae2a-d5471a970a3f",
        "colab": {
          "base_uri": "https://localhost:8080/",
          "height": 85
        }
      },
      "source": [
        "class Actor(nn.Module):\n",
        "  def __init__(self):\n",
        "    super(Actor, self).__init__()\n",
        "    self.Activation = F.leaky_relu\n",
        "    self.FC1 = nn.Linear( 2, 8  )\n",
        "    self.FC2 = nn.Linear( 8, 8  )\n",
        "    self.FC3 = nn.Linear( 8, 3  )\n",
        "\n",
        "  def forward(self,x):\n",
        "    x = F.leaky_relu(self.FC1(x))\n",
        "    x = F.leaky_relu(self.FC2(x))\n",
        "    x = self.FC3(x)\n",
        "    prob = F.softmax( x, dim =1)\n",
        "    return prob\n",
        "\n",
        "game.reset()\n",
        "torch.manual_seed(347)\n",
        "actor = Actor()\n",
        "\n",
        "action = np.array([1, +1, -1, 0])\n",
        "s, r, flag = game.step(action)\n",
        "# game.state\n",
        "actor(torch.Tensor(s))"
      ],
      "execution_count": 20,
      "outputs": [
        {
          "output_type": "execute_result",
          "data": {
            "text/plain": [
              "tensor([[0.4178, 0.2469, 0.3352],\n",
              "        [0.4178, 0.2469, 0.3352],\n",
              "        [0.4514, 0.2558, 0.2927],\n",
              "        [0.4484, 0.2472, 0.3044]], grad_fn=<SoftmaxBackward>)"
            ]
          },
          "metadata": {
            "tags": []
          },
          "execution_count": 20
        }
      ]
    },
    {
      "cell_type": "code",
      "metadata": {
        "id": "bhPAZXGDMvko",
        "colab_type": "code",
        "outputId": "090f63d2-3cc4-4624-9d9d-3a2fdda787d8",
        "colab": {
          "base_uri": "https://localhost:8080/",
          "height": 85
        }
      },
      "source": [
        "game.reset()\n",
        "probs = actor(torch.Tensor(game.state))\n",
        "probs"
      ],
      "execution_count": 16,
      "outputs": [
        {
          "output_type": "execute_result",
          "data": {
            "text/plain": [
              "tensor([[0.4256, 0.2728, 0.3016],\n",
              "        [0.4256, 0.2728, 0.3016],\n",
              "        [0.4256, 0.2728, 0.3016],\n",
              "        [0.4256, 0.2728, 0.3016]], grad_fn=<SoftmaxBackward>)"
            ]
          },
          "metadata": {
            "tags": []
          },
          "execution_count": 16
        }
      ]
    },
    {
      "cell_type": "code",
      "metadata": {
        "id": "hHpoVEPmf8Fu",
        "colab_type": "code",
        "outputId": "5c267169-2618-44a5-c6a6-7a33bca7b869",
        "colab": {
          "base_uri": "https://localhost:8080/",
          "height": 85
        }
      },
      "source": [
        "BS = 4\n",
        "game = MySuperGame(BS)\n",
        "game.reset()\n",
        "probs = actor(torch.Tensor(game.state))\n",
        "print(probs)\n",
        "m = Categorical(probs)\n",
        "action = m.sample()\n",
        "# action\n",
        "#m.log_prob(action), torch.log(probs)"
      ],
      "execution_count": 17,
      "outputs": [
        {
          "output_type": "stream",
          "text": [
            "tensor([[0.4256, 0.2728, 0.3016],\n",
            "        [0.4256, 0.2728, 0.3016],\n",
            "        [0.4256, 0.2728, 0.3016],\n",
            "        [0.4256, 0.2728, 0.3016]], grad_fn=<SoftmaxBackward>)\n"
          ],
          "name": "stdout"
        }
      ]
    },
    {
      "cell_type": "code",
      "metadata": {
        "id": "6QhoPUe-f8KC",
        "colab_type": "code",
        "outputId": "0ea843ca-8d00-49e0-8fcd-e0d1ccad75c3",
        "colab": {
          "base_uri": "https://localhost:8080/",
          "height": 34
        }
      },
      "source": [
        "def rollout(actor, game):\n",
        "  game.reset()\n",
        "  notDone = True\n",
        "\n",
        "  log_probs = []\n",
        "  rewards = []\n",
        "  while notDone: \n",
        "\n",
        "    probs = actor(torch.Tensor(game.state))\n",
        "    m = Categorical(probs)\n",
        "    action = m.sample()\n",
        "\n",
        "    log_probs.append(m.log_prob(action))\n",
        "\n",
        "    s, r, notDone = game.step(action.data.int().numpy()-1)\n",
        "    rewards.append(r)\n",
        "\n",
        "  return log_probs, rewards  \n",
        "\n",
        "log_probs, rewards = rollout(actor, game)\n",
        "log_probs, rewards\n",
        "np.mean(np.sum(rewards,0))"
      ],
      "execution_count": 23,
      "outputs": [
        {
          "output_type": "execute_result",
          "data": {
            "text/plain": [
              "21.75"
            ]
          },
          "metadata": {
            "tags": []
          },
          "execution_count": 23
        }
      ]
    },
    {
      "cell_type": "code",
      "metadata": {
        "id": "2d0BGB7nRO4A",
        "colab_type": "code",
        "outputId": "ec112787-0b35-4ca4-9328-b188683715ce",
        "colab": {
          "base_uri": "https://localhost:8080/",
          "height": 51
        }
      },
      "source": [
        "log_probs"
      ],
      "execution_count": 24,
      "outputs": [
        {
          "output_type": "execute_result",
          "data": {
            "text/plain": [
              "[tensor([-1.1986, -1.1986, -0.8542, -1.1986], grad_fn=<SqueezeBackward1>),\n",
              " tensor([-1.3986, -1.0930, -0.7953, -0.8726], grad_fn=<SqueezeBackward1>)]"
            ]
          },
          "metadata": {
            "tags": []
          },
          "execution_count": 24
        }
      ]
    },
    {
      "cell_type": "code",
      "metadata": {
        "id": "_DxIMKVORLHQ",
        "colab_type": "code",
        "outputId": "85a7257c-db6a-45d5-aa93-903404bb7d49",
        "colab": {
          "base_uri": "https://localhost:8080/",
          "height": 51
        }
      },
      "source": [
        "torch.stack(log_probs)"
      ],
      "execution_count": 25,
      "outputs": [
        {
          "output_type": "execute_result",
          "data": {
            "text/plain": [
              "tensor([[-1.1986, -1.1986, -0.8542, -1.1986],\n",
              "        [-1.3986, -1.0930, -0.7953, -0.8726]], grad_fn=<StackBackward>)"
            ]
          },
          "metadata": {
            "tags": []
          },
          "execution_count": 25
        }
      ]
    },
    {
      "cell_type": "code",
      "metadata": {
        "id": "sVZQd7gqRRss",
        "colab_type": "code",
        "outputId": "39384b73-4fcf-4aa4-d2a7-f9fb935ef4dc",
        "colab": {
          "base_uri": "https://localhost:8080/",
          "height": 34
        }
      },
      "source": [
        "torch.sum(torch.stack(log_probs),0)"
      ],
      "execution_count": 26,
      "outputs": [
        {
          "output_type": "execute_result",
          "data": {
            "text/plain": [
              "tensor([-2.5972, -2.2916, -1.6495, -2.0712], grad_fn=<SumBackward1>)"
            ]
          },
          "metadata": {
            "tags": []
          },
          "execution_count": 26
        }
      ]
    },
    {
      "cell_type": "code",
      "metadata": {
        "id": "sLex8tcfRql_",
        "colab_type": "code",
        "outputId": "6812c60b-b6e3-4940-dbeb-b1e286155036",
        "colab": {
          "base_uri": "https://localhost:8080/",
          "height": 34
        }
      },
      "source": [
        "torch.mean(torch.tensor(R)*logProbSum)"
      ],
      "execution_count": 30,
      "outputs": [
        {
          "output_type": "execute_result",
          "data": {
            "text/plain": [
              "tensor(-0.6682, grad_fn=<MeanBackward0>)"
            ]
          },
          "metadata": {
            "tags": []
          },
          "execution_count": 30
        }
      ]
    },
    {
      "cell_type": "code",
      "metadata": {
        "id": "KXiZ-U-5f8IU",
        "colab_type": "code",
        "outputId": "509549af-cbd4-4925-c4a7-f85fcb5d47b4",
        "colab": {
          "base_uri": "https://localhost:8080/",
          "height": 282
        }
      },
      "source": [
        "BS = 10\n",
        "game = MySuperGame(BS)\n",
        "\n",
        "torch.manual_seed(347)\n",
        "actor = Actor()\n",
        "actor_optim = optim.Adam(actor.parameters(), lr=1e-2)\n",
        "\n",
        "rewardHistory = []\n",
        "\n",
        "for it in range(1000):\n",
        "  log_probs, rewards = rollout(actor, game)\n",
        "  R = np.sum(np.array(rewards),0)\n",
        "#  print (R)\n",
        "  rewardHistory.append(np.mean(R))\n",
        "\n",
        "  logProbSum = torch.sum(torch.stack(log_probs),0)\n",
        "  actor_loss = -torch.mean(torch.tensor(R)*logProbSum)\n",
        "\n",
        "  actor_optim.zero_grad()\n",
        "  actor_loss.backward()\n",
        "  actor_optim.step()\n",
        "\n",
        "plt.plot(rewardHistory)\n",
        "np.max(rewardHistory)"
      ],
      "execution_count": 27,
      "outputs": [
        {
          "output_type": "execute_result",
          "data": {
            "text/plain": [
              "26.0"
            ]
          },
          "metadata": {
            "tags": []
          },
          "execution_count": 27
        },
        {
          "output_type": "display_data",
          "data": {
            "image/png": "[encoded data removed]",
            "text/plain": [
              "<Figure size 432x288 with 1 Axes>"
            ]
          },
          "metadata": {
            "tags": [],
            "needs_background": "light"
          }
        }
      ]
    },
    {
      "cell_type": "code",
      "metadata": {
        "id": "usTtKAc4QQtP",
        "colab_type": "code",
        "outputId": "b910fccd-478b-4e98-e96b-4a51ea39fb68",
        "colab": {
          "base_uri": "https://localhost:8080/",
          "height": 527
        }
      },
      "source": [
        "for w in actor.parameters():\n",
        "  print(w.grad)"
      ],
      "execution_count": 28,
      "outputs": [
        {
          "output_type": "stream",
          "text": [
            "tensor([[-7.5756e-02, -7.5756e-02],\n",
            "        [ 3.4367e-04,  3.4367e-04],\n",
            "        [ 6.5080e-04,  6.5080e-04],\n",
            "        [-1.3545e-01, -1.3545e-01],\n",
            "        [ 1.3077e-04,  1.3077e-04],\n",
            "        [-1.2555e-01, -1.2555e-01],\n",
            "        [-1.4735e-01, -1.4735e-01],\n",
            "        [-9.6918e-02, -9.6918e-02]])\n",
            "tensor([-0.0848, -0.0106,  0.0008, -0.1012, -0.0157, -0.1294, -0.1654, -0.0926])\n",
            "tensor([[ 5.9449e-03, -1.9368e-05, -2.0963e-05,  2.1962e-02, -3.8541e-05,\n",
            "          1.4266e-02,  7.6746e-03,  2.4825e-02],\n",
            "        [-2.0752e-03, -1.4461e-03,  2.2544e-05,  1.0467e-02, -2.9581e-03,\n",
            "          1.9811e-03, -1.7836e-03,  1.0098e-02],\n",
            "        [-2.7034e-03, -2.2299e-03,  3.2994e-05,  1.7955e-02, -4.5613e-03,\n",
            "          4.2386e-03, -2.1103e-03,  1.7624e-02],\n",
            "        [-3.0703e-03, -7.6451e-04,  1.8943e-05, -1.6759e-03, -1.5642e-03,\n",
            "         -3.6571e-03, -3.4863e-03, -2.8186e-03],\n",
            "        [ 2.5764e-02, -6.3770e-05, -9.1058e-05,  9.4927e-02, -1.2578e-04,\n",
            "          6.1729e-02,  3.3247e-02,  1.0733e-01],\n",
            "        [-1.2069e-03, -1.3432e-03,  1.8374e-05,  1.2355e-02, -2.7474e-03,\n",
            "          3.5579e-03, -7.2791e-04,  1.2358e-02],\n",
            "        [-1.5158e-03, -1.2858e-03,  1.8872e-05,  1.0510e-02, -2.6301e-03,\n",
            "          2.5466e-03, -1.1614e-03,  1.0340e-02],\n",
            "        [ 2.2883e-02, -5.4625e-05, -8.0899e-05,  8.4289e-02, -1.0759e-04,\n",
            "          5.4818e-02,  2.9529e-02,  9.5302e-02]])\n",
            "tensor([ 0.0076, -0.0008, -0.0007, -0.0030,  0.0329,  0.0001, -0.0003,  0.0292])\n",
            "tensor([[ 0.0511,  0.0308,  0.0332,  0.0101,  0.1180,  0.0189,  0.0374,  0.1148],\n",
            "        [-0.0286, -0.0107, -0.0130,  0.0001, -0.0662, -0.0054, -0.0148, -0.0644],\n",
            "        [-0.0225, -0.0201, -0.0202, -0.0102, -0.0518, -0.0135, -0.0227, -0.0504]])\n",
            "tensor([-0.6519,  0.3668,  0.2851])\n"
          ],
          "name": "stdout"
        }
      ]
    },
    {
      "cell_type": "code",
      "metadata": {
        "id": "naL6vdg5Svxb",
        "colab_type": "code",
        "outputId": "5e6271cd-c43b-43b3-c835-2fff2f5d4d64",
        "colab": {
          "base_uri": "https://localhost:8080/",
          "height": 187
        }
      },
      "source": [
        "game.reset()\n",
        "actor(torch.Tensor(game.state))"
      ],
      "execution_count": 29,
      "outputs": [
        {
          "output_type": "execute_result",
          "data": {
            "text/plain": [
              "tensor([[1.4375e-04, 2.0339e-05, 9.9984e-01],\n",
              "        [1.4375e-04, 2.0339e-05, 9.9984e-01],\n",
              "        [1.4375e-04, 2.0339e-05, 9.9984e-01],\n",
              "        [1.4375e-04, 2.0339e-05, 9.9984e-01],\n",
              "        [1.4375e-04, 2.0339e-05, 9.9984e-01],\n",
              "        [1.4375e-04, 2.0339e-05, 9.9984e-01],\n",
              "        [1.4375e-04, 2.0339e-05, 9.9984e-01],\n",
              "        [1.4375e-04, 2.0339e-05, 9.9984e-01],\n",
              "        [1.4375e-04, 2.0339e-05, 9.9984e-01],\n",
              "        [1.4375e-04, 2.0339e-05, 9.9984e-01]], grad_fn=<SoftmaxBackward>)"
            ]
          },
          "metadata": {
            "tags": []
          },
          "execution_count": 29
        }
      ]
    }
  ]
}