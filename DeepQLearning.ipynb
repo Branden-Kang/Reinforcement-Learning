{
  "nbformat": 4,
  "nbformat_minor": 0,
  "metadata": {
    "colab": {
      "name": "DeepQLearning.ipynb",
      "provenance": [],
      "collapsed_sections": []
    },
    "kernelspec": {
      "name": "python3",
      "display_name": "Python 3"
    },
    "accelerator": "GPU"
  },
  "cells": [
    {
      "cell_type": "code",
      "metadata": {
        "id": "h3TAJbaA-7f0",
        "colab_type": "code",
        "outputId": "0dbf3e70-3bfb-4b33-dc3c-659cf29e9510",
        "colab": {
          "base_uri": "https://localhost:8080/",
          "height": 34
        }
      },
      "source": [
        "# TAKEN FROM https://colab.research.google.com/drive/1flu31ulJlgiRL1dnN2ir8wGh9p7Zij2t#forceEdit=true&sandboxMode=true&scrollTo=8A-1LTSH88EE\n",
        "#remove \" > /dev/null 2>&1\" to see what is going on under the hood\n",
        "!pip install gym pyvirtualdisplay > /dev/null 2>&1\n",
        "!apt-get install -y xvfb python-opengl ffmpeg > /dev/null 2>&1\n",
        "!apt-get update > /dev/null 2>&1\n",
        "!apt-get install cmake > /dev/null 2>&1\n",
        "!pip install --upgrade setuptools 2>&1\n",
        "!pip install ez_setup > /dev/null 2>&1\n",
        "!pip install gym[atari] > /dev/null 2>&1"
      ],
      "execution_count": 1,
      "outputs": [
        {
          "output_type": "stream",
          "text": [
            "Requirement already up-to-date: setuptools in /usr/local/lib/python3.6/dist-packages (46.1.3)\n"
          ],
          "name": "stdout"
        }
      ]
    },
    {
      "cell_type": "code",
      "metadata": {
        "id": "2idWQvi2--Qa",
        "colab_type": "code",
        "outputId": "220685b1-f6f2-42c0-e8e7-bc0cef74b37f",
        "colab": {
          "base_uri": "https://localhost:8080/",
          "height": 71
        }
      },
      "source": [
        "import gym\n",
        "from gym import logger as gymlogger\n",
        "from gym.wrappers import Monitor\n",
        "gymlogger.set_level(40) #error only\n",
        "import tensorflow as tf\n",
        "import numpy as np\n",
        "import random\n",
        "import matplotlib\n",
        "import matplotlib.pyplot as plt\n",
        "%matplotlib inline\n",
        "import math\n",
        "import glob\n",
        "import io\n",
        "import base64\n",
        "from IPython.display import HTML\n",
        "\n",
        "from IPython import display as ipythondisplay\n",
        "\n",
        "from pyvirtualdisplay import Display\n",
        "display = Display(visible=0, size=(1400, 900))\n",
        "display.start()"
      ],
      "execution_count": 2,
      "outputs": [
        {
          "output_type": "stream",
          "text": [
            "xdpyinfo was not found, X start can not be checked! Please install xdpyinfo!\n"
          ],
          "name": "stderr"
        },
        {
          "output_type": "execute_result",
          "data": {
            "text/plain": [
              "<Display cmd_param=['Xvfb', '-br', '-nolisten', 'tcp', '-screen', '0', '1400x900x24', ':1001'] cmd=['Xvfb', '-br', '-nolisten', 'tcp', '-screen', '0', '1400x900x24', ':1001'] oserror=None return_code=None stdout=\"None\" stderr=\"None\" timeout_happened=False>"
            ]
          },
          "metadata": {
            "tags": []
          },
          "execution_count": 2
        }
      ]
    },
    {
      "cell_type": "code",
      "metadata": {
        "id": "cWPlSivP--Tg",
        "colab_type": "code",
        "colab": {}
      },
      "source": [
        "\"\"\"\n",
        "Utility functions to enable video recording of gym environment and displaying it\n",
        "To enable video, just do \"env = wrap_env(env)\"\"\n",
        "\"\"\"\n",
        "\n",
        "def show_video():\n",
        "  mp4list = glob.glob('video/*.mp4')\n",
        "  if len(mp4list) > 0:\n",
        "    mp4 = mp4list[0]\n",
        "    video = io.open(mp4, 'r+b').read()\n",
        "    encoded = base64.b64encode(video)\n",
        "    ipythondisplay.display(HTML(data='''<video alt=\"test\" autoplay \n",
        "                loop controls style=\"height: 400px;\">\n",
        "                <source src=\"data:video/mp4;base64,{0}\" type=\"video/mp4\" />\n",
        "             </video>'''.format(encoded.decode('ascii'))))\n",
        "  else: \n",
        "    print(\"Could not find video\")\n",
        "    \n",
        "\n",
        "def wrap_env(env):\n",
        "  env = Monitor(env, './video', force=True)\n",
        "  return env"
      ],
      "execution_count": 0,
      "outputs": []
    },
    {
      "cell_type": "code",
      "metadata": {
        "id": "Nof3K09Q_RKu",
        "colab_type": "code",
        "outputId": "ac6b753e-349b-444c-d00b-b0b0b1ff8cef",
        "colab": {
          "base_uri": "https://localhost:8080/",
          "height": 421
        }
      },
      "source": [
        "\n",
        "# this environment has env.reset() and end.step() functions\n",
        "env = wrap_env(gym.make('CartPole-v0'))\n",
        "env.reset()\n",
        "while True:  \n",
        "    env.render()    \n",
        "    #your agent goes here\n",
        "    action = env.action_space.sample()          \n",
        "    observation, reward, done, info = env.step(action) \n",
        "    if done: \n",
        "      break;\n",
        "env.close()            \n",
        "show_video()"
      ],
      "execution_count": 0,
      "outputs": [
        {
          "output_type": "display_data",
          "data": {
            "text/html": [
              "<video alt=\"test\" autoplay \n",
              "                loop controls style=\"height: 400px;\">\n",
              "                <source src=\"data:video/mp4;base64,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\" type=\"video/mp4\" />\n",
              "             </video>"
            ],
            "text/plain": [
              "<IPython.core.display.HTML object>"
            ]
          },
          "metadata": {
            "tags": []
          }
        }
      ]
    },
    {
      "cell_type": "code",
      "metadata": {
        "id": "IGeju4tY-7pL",
        "colab_type": "code",
        "colab": {}
      },
      "source": [
        "import argparse\n",
        "import gym\n",
        "import numpy as np\n",
        "from itertools import count\n",
        "\n",
        "import torch\n",
        "import torch.nn as nn\n",
        "import torch.nn.functional as F\n",
        "import torch.optim as optim\n",
        "from torch.distributions import Categorical\n",
        "\n",
        "import time"
      ],
      "execution_count": 0,
      "outputs": []
    },
    {
      "cell_type": "code",
      "metadata": {
        "id": "hvxGGhngmKPu",
        "colab_type": "code",
        "colab": {}
      },
      "source": [
        "import random\n",
        "from gym.wrappers import Monitor\n",
        "from keras.models import Sequential\n",
        "from keras.layers import Dense\n",
        "from keras.optimizers import Adam\n",
        "import pickle\n",
        "from collections import deque"
      ],
      "execution_count": 0,
      "outputs": []
    },
    {
      "cell_type": "code",
      "metadata": {
        "id": "JRDWyGDBmKU6",
        "colab_type": "code",
        "colab": {}
      },
      "source": [
        "class DQNAgent:\n",
        "    def __init__(self, env):\n",
        "\n",
        "        # based on the Gym environment, initialize the action & space sizes:\n",
        "\n",
        "        if isinstance(env.action_space,gym.spaces.box.Box):\n",
        "            self.action_size = env.action_space.shape[0]\n",
        "        elif isinstance(env.action_space,gym.spaces.discrete.Discrete):\n",
        "            self.action_size = env.action_space.n\n",
        "        else:\n",
        "            raise Exception('Not supported action environment')\n",
        "\n",
        "        if isinstance(env.observation_space,gym.spaces.box.Box):\n",
        "            self.state_size = env.observation_space.shape[0]\n",
        "        elif isinstance(env.observation_space,gym.spaces.discrete.Discrete):\n",
        "            self.state_size = env.observation_space.n\n",
        "        else:\n",
        "            raise Exception('Not supported state environment')\n",
        "\n",
        "        self.memory        = deque(maxlen=2000)    # Memory buffer\n",
        "        self.gamma         = 0.95                   # Discount factor\n",
        "#         self.epsilon     = 1.0            # Initial epsilon-greedy factor for searching the environment\n",
        "        self.epsilon       = 0.01           # When you load trained weights epsilon should be small \n",
        "        self.epsilon_min   = 0.01           # Minimum epsilon-greedy factor for searching the environment\n",
        "        self.epsilon_decay = 0.995          # Decay factor in epsilon\n",
        "        self.learning_rate = 0.001          # Adam Optimizer Learning rate\n",
        "        self.model         = self.Estimator()       # Neural Network for approximating the environment\n",
        "\n",
        "    def Estimator(self):\n",
        "        model = Sequential()\n",
        "        model.add(Dense(24, input_dim=self.state_size, activation='relu'))\n",
        "        model.add(Dense(24, activation='relu'))\n",
        "        model.add(Dense(self.action_size, activation='linear'))\n",
        "        model.compile(loss='mse',optimizer=Adam(lr=self.learning_rate))\n",
        "        return model\n",
        "\n",
        "    def load(self, address):\n",
        "        self.model.load_weights(address)\n",
        "\n",
        "    def save(self, address):\n",
        "        self.model.save_weights(address)\n",
        "\n",
        "    def Buffer(self, state, action, reward, next_state, done):\n",
        "        self.memory.append((state, action, reward, next_state, done))\n",
        "\n",
        "    def Actor(self, state):\n",
        "        if np.random.rand() <= self.epsilon:\n",
        "            return env.action_space.sample()\n",
        "        act_values = self.model.predict(state)\n",
        "        if isinstance(env.action_space,gym.spaces.box.Box):\n",
        "            return (act_values[0])\n",
        "        elif isinstance(env.action_space,gym.spaces.discrete.Discrete):\n",
        "            return np.argmax(act_values[0])\n",
        "\n",
        "    def Replay(self, batch_size):\n",
        "        minibatch = random.sample(self.memory, batch_size)\n",
        "        for state, action, reward, next_state, done in minibatch:\n",
        "            if done:\n",
        "                target_value = reward\n",
        "            else:\n",
        "                target_value = (reward + self.gamma * np.amax(self.model.predict(next_state)[0]))\n",
        "            updated_target   = self.model.predict(state)\n",
        "            if isinstance(env.action_space,gym.spaces.discrete.Discrete):\n",
        "                updated_target[0][action] = target_value\n",
        "            else:\n",
        "                updated_target[0][np.argmax(action)] = target_value    #you may need to change this line for different space-action spaces\n",
        "            self.model.fit(state, updated_target, epochs=1, verbose=0)\n",
        "        if self.epsilon > self.epsilon_min:\n",
        "            self.epsilon *= self.epsilon_decay"
      ],
      "execution_count": 0,
      "outputs": []
    },
    {
      "cell_type": "code",
      "metadata": {
        "id": "pnpFd5PCmKdW",
        "colab_type": "code",
        "outputId": "38ea9955-10ce-42c6-9224-035c6f4d5ebe",
        "colab": {
          "base_uri": "https://localhost:8080/",
          "height": 1000
        }
      },
      "source": [
        "name  = 'MountainCar-v0'\n",
        "# name  = 'CartPole-v1'\n",
        "# name  = 'Assault-ram-v0'\n",
        "# env   = gym.make(name)\n",
        "\n",
        "env = wrap_env(gym.make(name))\n",
        "\n",
        "agent = DQNAgent(env)\n",
        "# agent.load('saves/{}-dqn.h5'.format(name))\n",
        "# with open('saves/{}-deque.txt'.format(name), \"rb\") as fp:\n",
        "#     data = pickle.loads(fp.read())\n",
        "# agent.memory.extend(data)\n",
        "done         = False\n",
        "batch_size   = 32\n",
        "sim_runs     = 100\n",
        "num_steps    = 500\n",
        "score_vector = []\n",
        "    \n",
        "for sim in range(sim_runs):\n",
        "    state  = env.reset()\n",
        "    state  = np.reshape(state, [1, agent.state_size])\n",
        "    #some environments have maximum number of iterations by themselves \n",
        "    for step in range(num_steps): \n",
        "#             animation\n",
        "        # env.render()\n",
        "        action                      = agent.Actor(state)\n",
        "        next_state, reward, done, _ = env.step(action)\n",
        "        reward                      = reward if not done else -10\n",
        "        next_state                  = np.reshape(next_state, [1, agent.state_size])\n",
        "        agent.Buffer(state, action, reward, next_state, done)\n",
        "        state                       = next_state\n",
        "        if done:\n",
        "            print(\"simulation: {}/{}, score: {}\".format(sim, sim_runs, step))\n",
        "            score_vector.append(step)\n",
        "            break\n",
        "        if len(agent.memory) > batch_size:\n",
        "            agent.Replay(batch_size)\n",
        "    if (sim+1) % 50 == 0:\n",
        "        print(score_vector)\n",
        "env.close()"
      ],
      "execution_count": 0,
      "outputs": [
        {
          "output_type": "stream",
          "text": [
            "simulation: 0/100, score: 199\n",
            "simulation: 1/100, score: 199\n",
            "simulation: 2/100, score: 199\n",
            "simulation: 3/100, score: 199\n",
            "simulation: 4/100, score: 199\n",
            "simulation: 5/100, score: 199\n",
            "simulation: 6/100, score: 199\n",
            "simulation: 7/100, score: 199\n",
            "simulation: 8/100, score: 199\n",
            "simulation: 9/100, score: 199\n",
            "simulation: 10/100, score: 199\n",
            "simulation: 11/100, score: 199\n",
            "simulation: 12/100, score: 199\n",
            "simulation: 13/100, score: 199\n",
            "simulation: 14/100, score: 199\n",
            "simulation: 15/100, score: 199\n",
            "simulation: 16/100, score: 199\n",
            "simulation: 17/100, score: 199\n",
            "simulation: 18/100, score: 199\n",
            "simulation: 19/100, score: 199\n",
            "simulation: 20/100, score: 199\n",
            "simulation: 21/100, score: 199\n",
            "simulation: 22/100, score: 199\n",
            "simulation: 23/100, score: 199\n",
            "simulation: 24/100, score: 199\n",
            "simulation: 25/100, score: 199\n",
            "simulation: 26/100, score: 199\n",
            "simulation: 27/100, score: 199\n",
            "simulation: 28/100, score: 199\n",
            "simulation: 29/100, score: 199\n",
            "simulation: 30/100, score: 199\n",
            "simulation: 31/100, score: 199\n",
            "simulation: 32/100, score: 199\n",
            "simulation: 33/100, score: 199\n",
            "simulation: 34/100, score: 199\n",
            "simulation: 35/100, score: 199\n",
            "simulation: 36/100, score: 199\n",
            "simulation: 37/100, score: 199\n",
            "simulation: 38/100, score: 199\n",
            "simulation: 39/100, score: 199\n",
            "simulation: 40/100, score: 199\n",
            "simulation: 41/100, score: 199\n",
            "simulation: 42/100, score: 199\n",
            "simulation: 43/100, score: 199\n",
            "simulation: 44/100, score: 199\n",
            "simulation: 45/100, score: 199\n",
            "simulation: 46/100, score: 199\n",
            "simulation: 47/100, score: 199\n",
            "simulation: 48/100, score: 199\n",
            "simulation: 49/100, score: 199\n",
            "[199, 199, 199, 199, 199, 199, 199, 199, 199, 199, 199, 199, 199, 199, 199, 199, 199, 199, 199, 199, 199, 199, 199, 199, 199, 199, 199, 199, 199, 199, 199, 199, 199, 199, 199, 199, 199, 199, 199, 199, 199, 199, 199, 199, 199, 199, 199, 199, 199, 199]\n",
            "simulation: 50/100, score: 199\n",
            "simulation: 51/100, score: 176\n",
            "simulation: 52/100, score: 199\n",
            "simulation: 53/100, score: 199\n",
            "simulation: 54/100, score: 199\n",
            "simulation: 55/100, score: 199\n",
            "simulation: 56/100, score: 199\n",
            "simulation: 57/100, score: 199\n",
            "simulation: 58/100, score: 199\n",
            "simulation: 59/100, score: 199\n",
            "simulation: 60/100, score: 199\n",
            "simulation: 61/100, score: 199\n",
            "simulation: 62/100, score: 199\n",
            "simulation: 63/100, score: 199\n",
            "simulation: 64/100, score: 199\n",
            "simulation: 65/100, score: 199\n",
            "simulation: 66/100, score: 199\n",
            "simulation: 67/100, score: 199\n",
            "simulation: 68/100, score: 199\n",
            "simulation: 69/100, score: 163\n",
            "simulation: 70/100, score: 154\n",
            "simulation: 71/100, score: 199\n",
            "simulation: 72/100, score: 199\n",
            "simulation: 73/100, score: 199\n",
            "simulation: 74/100, score: 199\n",
            "simulation: 75/100, score: 199\n",
            "simulation: 76/100, score: 199\n",
            "simulation: 77/100, score: 199\n",
            "simulation: 78/100, score: 199\n",
            "simulation: 79/100, score: 199\n",
            "simulation: 80/100, score: 199\n",
            "simulation: 81/100, score: 199\n",
            "simulation: 82/100, score: 199\n",
            "simulation: 83/100, score: 199\n",
            "simulation: 84/100, score: 199\n",
            "simulation: 85/100, score: 199\n",
            "simulation: 86/100, score: 199\n",
            "simulation: 87/100, score: 199\n",
            "simulation: 88/100, score: 199\n",
            "simulation: 89/100, score: 176\n",
            "simulation: 90/100, score: 199\n",
            "simulation: 91/100, score: 199\n",
            "simulation: 92/100, score: 199\n",
            "simulation: 93/100, score: 160\n",
            "simulation: 94/100, score: 199\n",
            "simulation: 95/100, score: 185\n",
            "simulation: 96/100, score: 199\n",
            "simulation: 97/100, score: 199\n",
            "simulation: 98/100, score: 198\n",
            "simulation: 99/100, score: 199\n",
            "[199, 199, 199, 199, 199, 199, 199, 199, 199, 199, 199, 199, 199, 199, 199, 199, 199, 199, 199, 199, 199, 199, 199, 199, 199, 199, 199, 199, 199, 199, 199, 199, 199, 199, 199, 199, 199, 199, 199, 199, 199, 199, 199, 199, 199, 199, 199, 199, 199, 199, 199, 176, 199, 199, 199, 199, 199, 199, 199, 199, 199, 199, 199, 199, 199, 199, 199, 199, 199, 163, 154, 199, 199, 199, 199, 199, 199, 199, 199, 199, 199, 199, 199, 199, 199, 199, 199, 199, 199, 176, 199, 199, 199, 160, 199, 185, 199, 199, 198, 199]\n"
          ],
          "name": "stdout"
        }
      ]
    },
    {
      "cell_type": "code",
      "metadata": {
        "id": "XRaHiAKPmKSy",
        "colab_type": "code",
        "outputId": "68d3d39d-4ce0-44e8-a0da-edafcd528562",
        "colab": {
          "base_uri": "https://localhost:8080/",
          "height": 421
        }
      },
      "source": [
        "env = wrap_env(gym.make(name))\n",
        "state  = env.reset()\n",
        "state  = np.reshape(state, [1, agent.state_size])\n",
        "#some environments have maximum number of iterations by themselves \n",
        "for step in range(num_steps): \n",
        "#             animation\n",
        "    env.render()\n",
        "    action                      = agent.Actor(state)\n",
        "    next_state, reward, done, _ = env.step(action)\n",
        "    reward                      = reward if not done else -10\n",
        "    next_state                  = np.reshape(next_state, [1, agent.state_size])\n",
        "    agent.Buffer(state, action, reward, next_state, done)\n",
        "    state                       = next_state\n",
        "    if done:\n",
        "      break\n",
        "env.close()            \n",
        "show_video()"
      ],
      "execution_count": 0,
      "outputs": [
        {
          "output_type": "display_data",
          "data": {
            "text/html": [
              "<video alt=\"test\" autoplay \n",
              "                loop controls style=\"height: 400px;\">\n",
              "                <source src=\"data:video/mp4;base64,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\" type=\"video/mp4\" />\n",
              "             </video>"
            ],
            "text/plain": [
              "<IPython.core.display.HTML object>"
            ]
          },
          "metadata": {
            "tags": []
          }
        }
      ]
    },
    {
      "cell_type": "code",
      "metadata": {
        "id": "jZXj4tYy45RR",
        "colab_type": "code",
        "outputId": "81b7f682-034d-44af-91b6-98eb11ec0ed6",
        "colab": {
          "base_uri": "https://localhost:8080/",
          "height": 1000
        }
      },
      "source": [
        "# name  = 'MountainCar-v0'\n",
        "name  = 'CartPole-v1'\n",
        "# name  = 'Assault-ram-v0'\n",
        "# env   = gym.make(name)\n",
        "\n",
        "env = wrap_env(gym.make(name))\n",
        "\n",
        "agent = DQNAgent(env)\n",
        "# agent.load('saves/{}-dqn.h5'.format(name))\n",
        "# with open('saves/{}-deque.txt'.format(name), \"rb\") as fp:\n",
        "#     data = pickle.loads(fp.read())\n",
        "# agent.memory.extend(data)\n",
        "done         = False\n",
        "batch_size   = 32\n",
        "sim_runs     = 100\n",
        "num_steps    = 500\n",
        "score_vector = []\n",
        "    \n",
        "for sim in range(sim_runs):\n",
        "    state  = env.reset()\n",
        "    state  = np.reshape(state, [1, agent.state_size])\n",
        "    #some environments have maximum number of iterations by themselves \n",
        "    for step in range(num_steps): \n",
        "#             animation\n",
        "        # env.render()\n",
        "        action                      = agent.Actor(state)\n",
        "        next_state, reward, done, _ = env.step(action)\n",
        "        reward                      = reward if not done else -10\n",
        "        next_state                  = np.reshape(next_state, [1, agent.state_size])\n",
        "        agent.Buffer(state, action, reward, next_state, done)\n",
        "        state                       = next_state\n",
        "        if done:\n",
        "            print(\"simulation: {}/{}, score: {}\".format(sim, sim_runs, step))\n",
        "            score_vector.append(step)\n",
        "            break\n",
        "        if len(agent.memory) > batch_size:\n",
        "            agent.Replay(batch_size)\n",
        "    if (sim+1) % 50 == 0:\n",
        "        print(score_vector)\n",
        "env.close()"
      ],
      "execution_count": 0,
      "outputs": [
        {
          "output_type": "stream",
          "text": [
            "simulation: 0/100, score: 8\n",
            "simulation: 1/100, score: 11\n",
            "simulation: 2/100, score: 8\n",
            "simulation: 3/100, score: 7\n",
            "simulation: 4/100, score: 10\n",
            "simulation: 5/100, score: 8\n",
            "simulation: 6/100, score: 8\n",
            "simulation: 7/100, score: 14\n",
            "simulation: 8/100, score: 14\n",
            "simulation: 9/100, score: 15\n",
            "simulation: 10/100, score: 38\n",
            "simulation: 11/100, score: 8\n",
            "simulation: 12/100, score: 8\n",
            "simulation: 13/100, score: 8\n",
            "simulation: 14/100, score: 7\n",
            "simulation: 15/100, score: 10\n",
            "simulation: 16/100, score: 9\n",
            "simulation: 17/100, score: 8\n",
            "simulation: 18/100, score: 8\n",
            "simulation: 19/100, score: 9\n",
            "simulation: 20/100, score: 7\n",
            "simulation: 21/100, score: 8\n",
            "simulation: 22/100, score: 8\n",
            "simulation: 23/100, score: 7\n",
            "simulation: 24/100, score: 9\n",
            "simulation: 25/100, score: 8\n",
            "simulation: 26/100, score: 9\n",
            "simulation: 27/100, score: 43\n",
            "simulation: 28/100, score: 100\n",
            "simulation: 29/100, score: 47\n",
            "simulation: 30/100, score: 96\n",
            "simulation: 31/100, score: 74\n",
            "simulation: 32/100, score: 92\n",
            "simulation: 33/100, score: 101\n",
            "simulation: 34/100, score: 175\n",
            "simulation: 35/100, score: 203\n",
            "simulation: 36/100, score: 232\n",
            "simulation: 37/100, score: 134\n",
            "simulation: 38/100, score: 159\n",
            "simulation: 39/100, score: 254\n",
            "simulation: 40/100, score: 243\n",
            "simulation: 41/100, score: 191\n",
            "simulation: 42/100, score: 171\n",
            "simulation: 43/100, score: 259\n",
            "simulation: 44/100, score: 229\n",
            "simulation: 45/100, score: 198\n",
            "simulation: 46/100, score: 228\n",
            "simulation: 47/100, score: 257\n",
            "simulation: 48/100, score: 209\n",
            "simulation: 49/100, score: 240\n",
            "[8, 11, 8, 7, 10, 8, 8, 14, 14, 15, 38, 8, 8, 8, 7, 10, 9, 8, 8, 9, 7, 8, 8, 7, 9, 8, 9, 43, 100, 47, 96, 74, 92, 101, 175, 203, 232, 134, 159, 254, 243, 191, 171, 259, 229, 198, 228, 257, 209, 240]\n",
            "simulation: 50/100, score: 193\n",
            "simulation: 51/100, score: 247\n",
            "simulation: 52/100, score: 138\n",
            "simulation: 53/100, score: 151\n",
            "simulation: 54/100, score: 194\n",
            "simulation: 55/100, score: 195\n",
            "simulation: 56/100, score: 158\n",
            "simulation: 57/100, score: 191\n",
            "simulation: 58/100, score: 184\n",
            "simulation: 59/100, score: 169\n",
            "simulation: 60/100, score: 198\n",
            "simulation: 61/100, score: 69\n",
            "simulation: 62/100, score: 10\n",
            "simulation: 63/100, score: 185\n",
            "simulation: 64/100, score: 197\n",
            "simulation: 65/100, score: 215\n",
            "simulation: 66/100, score: 208\n",
            "simulation: 67/100, score: 71\n",
            "simulation: 68/100, score: 8\n",
            "simulation: 69/100, score: 12\n",
            "simulation: 70/100, score: 9\n",
            "simulation: 71/100, score: 9\n",
            "simulation: 72/100, score: 448\n",
            "simulation: 73/100, score: 275\n",
            "simulation: 74/100, score: 417\n",
            "simulation: 75/100, score: 48\n",
            "simulation: 76/100, score: 499\n",
            "simulation: 77/100, score: 356\n",
            "simulation: 78/100, score: 499\n",
            "simulation: 79/100, score: 337\n",
            "simulation: 80/100, score: 499\n",
            "simulation: 81/100, score: 42\n",
            "simulation: 82/100, score: 8\n",
            "simulation: 83/100, score: 10\n",
            "simulation: 84/100, score: 9\n",
            "simulation: 85/100, score: 8\n",
            "simulation: 86/100, score: 7\n",
            "simulation: 87/100, score: 8\n",
            "simulation: 88/100, score: 8\n",
            "simulation: 89/100, score: 8\n",
            "simulation: 90/100, score: 7\n",
            "simulation: 91/100, score: 9\n",
            "simulation: 92/100, score: 8\n",
            "simulation: 93/100, score: 499\n",
            "simulation: 94/100, score: 499\n",
            "simulation: 95/100, score: 435\n",
            "simulation: 96/100, score: 8\n",
            "simulation: 97/100, score: 499\n",
            "simulation: 98/100, score: 118\n",
            "simulation: 99/100, score: 499\n",
            "[8, 11, 8, 7, 10, 8, 8, 14, 14, 15, 38, 8, 8, 8, 7, 10, 9, 8, 8, 9, 7, 8, 8, 7, 9, 8, 9, 43, 100, 47, 96, 74, 92, 101, 175, 203, 232, 134, 159, 254, 243, 191, 171, 259, 229, 198, 228, 257, 209, 240, 193, 247, 138, 151, 194, 195, 158, 191, 184, 169, 198, 69, 10, 185, 197, 215, 208, 71, 8, 12, 9, 9, 448, 275, 417, 48, 499, 356, 499, 337, 499, 42, 8, 10, 9, 8, 7, 8, 8, 8, 7, 9, 8, 499, 499, 435, 8, 499, 118, 499]\n"
          ],
          "name": "stdout"
        }
      ]
    },
    {
      "cell_type": "code",
      "metadata": {
        "id": "-4gvUR8s45LB",
        "colab_type": "code",
        "outputId": "f57d8db0-217a-42aa-f44d-682a94d56749",
        "colab": {
          "base_uri": "https://localhost:8080/",
          "height": 421
        }
      },
      "source": [
        "env = wrap_env(gym.make(name))\n",
        "state  = env.reset()\n",
        "state  = np.reshape(state, [1, agent.state_size])\n",
        "#some environments have maximum number of iterations by themselves \n",
        "for step in range(num_steps): \n",
        "#             animation\n",
        "    env.render()\n",
        "    action                      = agent.Actor(state)\n",
        "    next_state, reward, done, _ = env.step(action)\n",
        "    reward                      = reward if not done else -10\n",
        "    next_state                  = np.reshape(next_state, [1, agent.state_size])\n",
        "    agent.Buffer(state, action, reward, next_state, done)\n",
        "    state                       = next_state\n",
        "    if done:\n",
        "      break\n",
        "env.close()            \n",
        "show_video()"
      ],
      "execution_count": 0,
      "outputs": [
        {
          "output_type": "display_data",
          "data": {
            "text/html": [
              "<video alt=\"test\" autoplay \n",
              "                loop controls style=\"height: 400px;\">\n",
              "                <source src=\"data:video/mp4;base64,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\" type=\"video/mp4\" />\n",
              "             </video>"
            ],
            "text/plain": [
              "<IPython.core.display.HTML object>"
            ]
          },
          "metadata": {
            "tags": []
          }
        }
      ]
    }
  ]
}