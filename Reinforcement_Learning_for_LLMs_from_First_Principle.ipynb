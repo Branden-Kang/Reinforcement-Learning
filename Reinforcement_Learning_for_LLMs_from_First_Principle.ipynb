{
  "nbformat": 4,
  "nbformat_minor": 0,
  "metadata": {
    "colab": {
      "provenance": [],
      "authorship_tag": "ABX9TyOEsaAHbBiDjVP4+EQLvMIk"
    },
    "kernelspec": {
      "name": "python3",
      "display_name": "Python 3"
    },
    "language_info": {
      "name": "python"
    }
  },
  "cells": [
    {
      "cell_type": "markdown",
      "source": [
        "[Reference](https://medium.com/@pankajchandravanshi/7ff7f98a7e0a)"
      ],
      "metadata": {
        "id": "IjTv85uc9uoP"
      }
    },
    {
      "cell_type": "markdown",
      "source": [
        "# The Q-Learning Algorithm"
      ],
      "metadata": {
        "id": "_fhQqSJM9gHt"
      }
    },
    {
      "cell_type": "code",
      "execution_count": 1,
      "metadata": {
        "colab": {
          "base_uri": "https://localhost:8080/"
        },
        "id": "YR4FXtfh8jpw",
        "outputId": "fc4cb4f7-f0c2-4e5d-b7d6-1b964fd7691d"
      },
      "outputs": [
        {
          "output_type": "stream",
          "name": "stdout",
          "text": [
            "[[0.48767498 0.48766874 0.39013998 0.46816798]\n",
            " [0.51334208 0.51334182 0.51334182 0.51330923]\n",
            " [0.54036008 0.54035981 0.54035981 0.54036009]\n",
            " [0.56880009 0.56880009 0.56880009 0.56880003]\n",
            " [0.59873694 0.59873694 0.59873694 0.59873694]\n",
            " [0.63024941 0.63024941 0.63024941 0.63024941]\n",
            " [0.66342043 0.66342043 0.66342043 0.66342043]\n",
            " [0.6983373  0.6983373  0.6983373  0.6983373 ]\n",
            " [0.73509189 0.73509189 0.73509189 0.73509189]\n",
            " [0.77378094 0.77378094 0.77378094 0.77378094]\n",
            " [0.81450625 0.81450625 0.81450625 0.81450625]\n",
            " [0.857375   0.857375   0.857375   0.857375  ]\n",
            " [0.9025     0.9025     0.9025     0.9025    ]\n",
            " [0.95       0.95       0.95       0.95      ]\n",
            " [1.         1.         1.         1.        ]\n",
            " [0.         0.         0.         0.        ]]\n"
          ]
        }
      ],
      "source": [
        "#Define the Environment\n",
        "import numpy as np\n",
        "n_states = 16\n",
        "n_actions = 4\n",
        "goal_state = 15\n",
        "Q_table = np.zeros((n_states, n_actions))\n",
        "\n",
        "#Set Hyperparameters\n",
        "learning_rate = 0.8\n",
        "discount_factor = 0.95\n",
        "exploration_prob = 0.2\n",
        "epochs = 1000\n",
        "\n",
        "#Implement the Q-Learning Algorithm\n",
        "for epoch in range(epochs):\n",
        "    current_state = np.random.randint(0, n_states)\n",
        "    while current_state != goal_state:\n",
        "        if np.random.rand() < exploration_prob:\n",
        "            action = np.random.randint(0, n_actions)\n",
        "        else:\n",
        "            action = np.argmax(Q_table[current_state])\n",
        "        next_state = (current_state + 1) % n_states\n",
        "        reward = 1 if next_state == goal_state else 0\n",
        "        Q_table[current_state, action] += learning_rate * \\\n",
        "            (reward + discount_factor *\n",
        "             np.max(Q_table[next_state]) - Q_table[current_state, action])\n",
        "        current_state = next_state\n",
        "\n",
        "print(Q_table)"
      ]
    },
    {
      "cell_type": "markdown",
      "source": [
        "# Deep Q-Learning"
      ],
      "metadata": {
        "id": "D3bmI5EA9icc"
      }
    },
    {
      "cell_type": "code",
      "source": [
        "class DQNAgent:\n",
        "    def __init__(self, state_size, action_size):\n",
        "        self.n_actions = action_size\n",
        "        # we define some parameters and hyperparameters:\n",
        "        # \"lr\" : learning rate\n",
        "        # \"gamma\": discounted factor\n",
        "        # \"exploration_proba_decay\": decay of the exploration probability\n",
        "        # \"batch_size\": size of experiences we sample to train the DNN\n",
        "        self.lr = 0.001\n",
        "        self.gamma = 0.99\n",
        "        self.exploration_proba = 1.0\n",
        "        self.exploration_proba_decay = 0.005\n",
        "        self.batch_size = 32\n",
        "\n",
        "        # We define our memory buffer where we will store our experiences\n",
        "        # We stores only the 2000 last time steps\n",
        "        self.memory_buffer= list()\n",
        "        self.max_memory_buffer = 2000\n",
        "\n",
        "        # We creaate our model having to hidden layers of 24 units (neurones)\n",
        "        # The first layer has the same size as a state size\n",
        "        # The last layer has the size of actions space\n",
        "        self.model = Sequential([\n",
        "            Dense(units=24,input_dim=state_size, activation = 'relu'),\n",
        "            Dense(units=24,activation = 'relu'),\n",
        "            Dense(units=action_size, activation = 'linear')\n",
        "        ])\n",
        "        self.model.compile(loss=\"mse\",\n",
        "                      optimizer = Adam(lr=self.lr))\n",
        "\n",
        "    # The agent computes the action to perform given a state\n",
        "    def compute_action(self, current_state):\n",
        "        # We sample a variable uniformly over [0,1]\n",
        "        # if the variable is less than the exploration probability\n",
        "        #     we choose an action randomly\n",
        "        # else\n",
        "        #     we forward the state through the DNN and choose the action\n",
        "        #     with the highest Q-value.\n",
        "        if np.random.uniform(0,1) < self.exploration_proba:\n",
        "            return np.random.choice(range(self.n_actions))\n",
        "        q_values = self.model.predict(current_state)[0]\n",
        "        return np.argmax(q_values)\n",
        "\n",
        "    # when an episode is finished, we update the exploration probability using\n",
        "    # espilon greedy algorithm\n",
        "    def update_exploration_probability(self):\n",
        "        self.exploration_proba = self.exploration_proba * np.exp(-self.exploration_proba_decay)\n",
        "        print(self.exploration_proba)\n",
        "\n",
        "    # At each time step, we store the corresponding experience\n",
        "    def store_episode(self,current_state, action, reward, next_state, done):\n",
        "        #We use a dictionnary to store them\n",
        "        self.memory_buffer.append({\n",
        "            \"current_state\":current_state,\n",
        "            \"action\":action,\n",
        "            \"reward\":reward,\n",
        "            \"next_state\":next_state,\n",
        "            \"done\" :done\n",
        "        })\n",
        "        # If the size of memory buffer exceeds its maximum, we remove the oldest experience\n",
        "        if len(self.memory_buffer) > self.max_memory_buffer:\n",
        "            self.memory_buffer.pop(0)\n",
        "\n",
        "    # At the end of each episode, we train our model\n",
        "    def train(self):\n",
        "        # We shuffle the memory buffer and select a batch size of experiences\n",
        "        np.random.shuffle(self.memory_buffer)\n",
        "        batch_sample = self.memory_buffer[0:self.batch_size]\n",
        "\n",
        "        # We iterate over the selected experiences\n",
        "        for experience in batch_sample:\n",
        "            # We compute the Q-values of S_t\n",
        "            q_current_state = self.model.predict(experience[\"current_state\"])\n",
        "            # We compute the Q-target using Bellman optimality equation\n",
        "            q_target = experience[\"reward\"]\n",
        "            if not experience[\"done\"]:\n",
        "                q_target = q_target + self.gamma*np.max(self.model.predict(experience[\"next_state\"])[0])\n",
        "            q_current_state[0][experience[\"action\"]] = q_target\n",
        "            # train the model\n",
        "            self.model.fit(experience[\"current_state\"], q_current_state, verbose=0)"
      ],
      "metadata": {
        "id": "G6lvv6gX9d7-"
      },
      "execution_count": 2,
      "outputs": []
    }
  ]
}