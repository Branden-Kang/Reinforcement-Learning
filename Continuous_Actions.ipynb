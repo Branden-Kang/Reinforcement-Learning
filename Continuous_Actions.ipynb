{
  "nbformat": 4,
  "nbformat_minor": 0,
  "metadata": {
    "colab": {
      "name": "Continuous Actions.ipynb",
      "provenance": [],
      "collapsed_sections": [],
      "authorship_tag": "ABX9TyMdXcDQgmlt49NlWTyBsr8n"
    },
    "kernelspec": {
      "name": "python3",
      "display_name": "Python 3"
    }
  },
  "cells": [
    {
      "cell_type": "code",
      "metadata": {
        "id": "a1xsROaq2bzI",
        "colab_type": "code",
        "colab": {}
      },
      "source": [
        "import numpy as np\n",
        "import matplotlib.pyplot as plt\n",
        "%matplotlib inline \n",
        "import matplotlib\n",
        "import torch\n",
        "import torch.nn as nn\n",
        "import torch.nn.functional as F\n",
        "import torch.optim as optim"
      ],
      "execution_count": 0,
      "outputs": []
    },
    {
      "cell_type": "code",
      "metadata": {
        "id": "wn7RUFpb3ja8",
        "colab_type": "code",
        "colab": {
          "base_uri": "https://localhost:8080/",
          "height": 85
        },
        "outputId": "12c93996-f1e6-4014-e9ee-daa5a87b8880"
      },
      "source": [
        "np.random.seed(347)\n",
        "class SupplyChain:\n",
        "  def __init__(self, BS):\n",
        "    self.BS = BS\n",
        "    np.random.seed(47)\n",
        "    self.state = np.zeros([BS,2]) # tuple, (time, inventory)\n",
        "    self.time = 0\n",
        "\n",
        "    self.holdingCost = 0.5\n",
        "    self.bakcOrderCost = 1.0\n",
        "\n",
        "    self.means = [10,20] # mean of the demand\n",
        "    self.sigma = [1,2] # standard deviation for demand\n",
        "\n",
        "  def reset(self):\n",
        "    self.state = np.zeros([BS, 2]) # tuple, (time, inventory)\n",
        "    self.time = 0\n",
        "\n",
        "  def step(self, action):\n",
        "    if self.time > 2:\n",
        "      return None\n",
        "    self.state[:,0]+=1\n",
        "    # inventory_{t+1} = max\\{0, inventory_{t} + action - demand }\n",
        "\n",
        "    demand = np.random.randn(BS)*self.sigma[self.time]+self.means[self.time]\n",
        "    # print(demand)\n",
        "    self.state[:,1]+=action-demand\n",
        "    cost = np.maximum(self.state[:,1],0)*self.holdingCost # holding cost\n",
        "    cost += (np.maximum(-self.state[:,1],0)*self.bakcOrderCost)\n",
        "    reward = - cost\n",
        "    # print (cost)\n",
        "    self.state[:,1] = np.maximum(self.state[:,1],0)\n",
        "    self.time += 1\n",
        "    return self.state+0, reward, self.time <2\n",
        "\n",
        "BS = 4\n",
        "game = SupplyChain(BS)\n",
        "game.reset()\n",
        "game.state\n",
        "game.step(np.array([10,30,5,10]))\n",
        "game.step(np.array([20,30,5,21]))\n",
        "game.state"
      ],
      "execution_count": 42,
      "outputs": [
        {
          "output_type": "execute_result",
          "data": {
            "text/plain": [
              "array([[ 2.        ,  2.95748344],\n",
              "       [ 2.        , 25.09857221],\n",
              "       [ 2.        ,  0.        ],\n",
              "       [ 2.        ,  0.        ]])"
            ]
          },
          "metadata": {
            "tags": []
          },
          "execution_count": 42
        }
      ]
    },
    {
      "cell_type": "code",
      "metadata": {
        "id": "zo7Qv0DC4WZV",
        "colab_type": "code",
        "colab": {
          "base_uri": "https://localhost:8080/",
          "height": 51
        },
        "outputId": "f523db97-a84d-4818-92ca-df8ddf7abad3"
      },
      "source": [
        "class Actor(nn.Module):\n",
        "  def __init__(self):\n",
        "    super(Actor, self).__init__()\n",
        "    self.Activation = F.leaky_relu\n",
        "    self.affine1 = nn.Linear(2, 8)\n",
        "    self.affine2 = nn.Linear(8, 2) # mu, sigma\n",
        "\n",
        "  def forward(self, x):\n",
        "    x = self.Activation(self.affine1(x))\n",
        "    x = (self.affine2(x))\n",
        "    mu = x[:,0]\n",
        "    sigma = torch.exp(x[:,1])\n",
        "\n",
        "    return mu, sigma\n",
        "\n",
        "game.reset()\n",
        "\n",
        "torch.manual_seed(347)\n",
        "actor = Actor()\n",
        "mu, sigma = actor(torch.Tensor(game.state))\n",
        "mu, sigma"
      ],
      "execution_count": 43,
      "outputs": [
        {
          "output_type": "execute_result",
          "data": {
            "text/plain": [
              "(tensor([0.0311, 0.0311, 0.0311, 0.0311], grad_fn=<SelectBackward>),\n",
              " tensor([1.3751, 1.3751, 1.3751, 1.3751], grad_fn=<ExpBackward>))"
            ]
          },
          "metadata": {
            "tags": []
          },
          "execution_count": 43
        }
      ]
    },
    {
      "cell_type": "code",
      "metadata": {
        "id": "QBoVdiTT7kgK",
        "colab_type": "code",
        "colab": {
          "base_uri": "https://localhost:8080/",
          "height": 119
        },
        "outputId": "efffe826-b042-4adc-e00d-2fff5209626a"
      },
      "source": [
        "def rollout(actor, game, state):\n",
        "  game.reset()\n",
        "  notDone = True\n",
        "  log_probs = []\n",
        "  rewards = []\n",
        "  while notDone:\n",
        "    mu, sigma = actor(torch.Tensor(game.state))\n",
        "    action = np.random.randn(BS)*sigma.data.numpy()+ mu.data.numpy()\n",
        "\n",
        "    log_prob = -torch.log(0.0001 + sigma*np.math.sqrt(2*3.1415) ) - 1/2 *(torch.tensor(action)-mu)**2 / (sigma**2)\n",
        "    log_probs.append(log_prob)\n",
        "\n",
        "    s, r, notDone = game.step(action)\n",
        "    rewards.append(r)\n",
        "\n",
        "  return log_probs, rewards, state\n",
        "\n",
        "log_probs, rewards = rollout(actor, game)\n",
        "log_probs, rewards\n"
      ],
      "execution_count": 44,
      "outputs": [
        {
          "output_type": "execute_result",
          "data": {
            "text/plain": [
              "([tensor([-1.2809, -1.4130, -2.2087, -1.8471], dtype=torch.float64,\n",
              "         grad_fn=<SubBackward0>),\n",
              "  tensor([-1.3056, -1.0505, -1.9215, -1.0480], dtype=torch.float64,\n",
              "         grad_fn=<SubBackward0>)],\n",
              " [array([ -9.44173875,  -9.84046651, -12.32206746,  -9.24545292]),\n",
              "  array([-15.29202094, -20.33456478, -22.23461889, -20.05718429])])"
            ]
          },
          "metadata": {
            "tags": []
          },
          "execution_count": 44
        }
      ]
    },
    {
      "cell_type": "code",
      "metadata": {
        "id": "Vr7UZz0W8ypa",
        "colab_type": "code",
        "colab": {
          "base_uri": "https://localhost:8080/",
          "height": 282
        },
        "outputId": "61699555-f92f-4020-d3cc-217814b535d4"
      },
      "source": [
        "BS = 50\n",
        "game = SupplyChain(BS)\n",
        "\n",
        "torch.manual_seed(347)   \n",
        "actor = Actor()\n",
        "actor_optim = optim.Adam(actor.parameters(), lr=1e-3)\n",
        "\n",
        "rewardHistory = []\n",
        "for it in range(3000):\n",
        "  log_probs, rewards = rollout(actor, game)\n",
        "  R = np.sum(np.array(rewards),0)\n",
        "  rewardHistory.append(np.mean(R))\n",
        "  logProbSum = torch.sum(torch.stack(log_probs),0)\n",
        "  actor_loss = -torch.mean(logProbSum*(torch.tensor(R)))\n",
        "\n",
        "  actor_optim.zero_grad()\n",
        "  actor_loss.backward()\n",
        "  actor_optim.step()\n",
        "plt.plot(rewardHistory)\n",
        "np.max(rewardHistory)\n"
      ],
      "execution_count": 52,
      "outputs": [
        {
          "output_type": "execute_result",
          "data": {
            "text/plain": [
              "-1.807890493177058"
            ]
          },
          "metadata": {
            "tags": []
          },
          "execution_count": 52
        },
        {
          "output_type": "display_data",
          "data": {
            "image/png": "[encoded data removed]",
            "text/plain": [
              "<Figure size 432x288 with 1 Axes>"
            ]
          },
          "metadata": {
            "tags": [],
            "needs_background": "light"
          }
        }
      ]
    },
    {
      "cell_type": "code",
      "metadata": {
        "id": "7cABky1S-w-y",
        "colab_type": "code",
        "colab": {
          "base_uri": "https://localhost:8080/",
          "height": 51
        },
        "outputId": "bbdc6c60-c1d4-4e46-de52-c3556beab4b5"
      },
      "source": [
        "game.reset()\n",
        "mu, sigma = actor(torch.Tensor(game.state))\n",
        "\n",
        "game.step(mu.data.numpy())\n",
        "print (game.state[0])\n",
        "mu, sigma = actor(torch.Tensor(game.state))\n",
        "print (mu[0], sigma[0])"
      ],
      "execution_count": 53,
      "outputs": [
        {
          "output_type": "stream",
          "text": [
            "[1.         3.24002395]\n",
            "tensor(20.4777, grad_fn=<SelectBackward>) tensor(0.0655, grad_fn=<SelectBackward>)\n"
          ],
          "name": "stdout"
        }
      ]
    }
  ]
}